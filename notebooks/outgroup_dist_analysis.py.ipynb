{
 "cells": [
  {
   "cell_type": "markdown",
   "id": "6058efba-4ca7-46a3-ae3b-7d1293e15fea",
   "metadata": {},
   "source": [
    "# Analyze distance to outgroup comparators\n",
    "\n",
    "Get variables from `snakemake`:"
   ]
  },
  {
   "cell_type": "code",
   "execution_count": 1,
   "id": "e823ee26-43fe-4bef-bd31-4a3105cbfdaf",
   "metadata": {
    "execution": {
     "iopub.execute_input": "2021-06-05T16:56:17.889798Z",
     "iopub.status.busy": "2021-06-05T16:56:17.889476Z",
     "iopub.status.idle": "2021-06-05T16:56:17.963220Z",
     "shell.execute_reply": "2021-06-05T16:56:17.962254Z",
     "shell.execute_reply.started": "2021-06-05T16:56:17.889717Z"
    },
    "tags": []
   },
   "outputs": [],
   "source": [
    "\n",
    "######## snakemake preamble start (automatically inserted, do not edit) ########\n",
    "import sys; sys.path.extend(['/fh/fast/bloom_j/software/miniconda3/envs/SARS-CoV-2_PRJNA612766/lib/python3.8/site-packages', '/home/jbloom/SARS-CoV-2_PRJNA612766/notebooks']); import pickle; snakemake = pickle.loads(b'\\x80\\x04\\x95V&\\x00\\x00\\x00\\x00\\x00\\x00\\x8c\\x10snakemake.script\\x94\\x8c\\tSnakemake\\x94\\x93\\x94)\\x81\\x94}\\x94(\\x8c\\x05input\\x94\\x8c\\x0csnakemake.io\\x94\\x8c\\nInputFiles\\x94\\x93\\x94)\\x81\\x94(\\x8c<results/early_sequences/annotated_filtered_substitutions.csv\\x94\\x8c)results/early_sequences/full_alignment.fa\\x94e}\\x94(\\x8c\\x06_names\\x94}\\x94(\\x8c\\x0eearly_seq_subs\\x94K\\x00N\\x86\\x94\\x8c\\x13early_seq_alignment\\x94K\\x01N\\x86\\x94u\\x8c\\x12_allowed_overrides\\x94]\\x94(\\x8c\\x05index\\x94\\x8c\\x04sort\\x94eh\\x15\\x8c\\tfunctools\\x94\\x8c\\x07partial\\x94\\x93\\x94h\\x06\\x8c\\x19Namedlist._used_attribute\\x94\\x93\\x94\\x85\\x94R\\x94(h\\x1b)}\\x94\\x8c\\x05_name\\x94h\\x15sNt\\x94bh\\x16h\\x19h\\x1b\\x85\\x94R\\x94(h\\x1b)}\\x94h\\x1fh\\x16sNt\\x94bh\\x0fh\\nh\\x11h\\x0bub\\x8c\\x06output\\x94h\\x06\\x8c\\x0bOutputFiles\\x94\\x93\\x94)\\x81\\x94\\x8c\\x15outgroup_dist_results\\x94a}\\x94(h\\r}\\x94h\\x13]\\x94(h\\x15h\\x16eh\\x15h\\x19h\\x1b\\x85\\x94R\\x94(h\\x1b)}\\x94h\\x1fh\\x15sNt\\x94bh\\x16h\\x19h\\x1b\\x85\\x94R\\x94(h\\x1b)}\\x94h\\x1fh\\x16sNt\\x94bub\\x8c\\x06params\\x94h\\x06\\x8c\\x06Params\\x94\\x93\\x94)\\x81\\x94(}\\x94(\\x8c\\x05start\\x94M;T\\x8c\\x03end\\x94M\\xeasu]\\x94(\\x8c\\x06RaTG13\\x94\\x8c\\x06RmYN02\\x94\\x8c\\x05PrC31\\x94\\x8c\\x06RpYN06\\x94ee}\\x94(h\\r}\\x94(\\x8c\\x12region_of_interest\\x94K\\x00N\\x86\\x94\\x8c\\x0bcomparators\\x94K\\x01N\\x86\\x94uh\\x13]\\x94(h\\x15h\\x16eh\\x15h\\x19h\\x1b\\x85\\x94R\\x94(h\\x1b)}\\x94h\\x1fh\\x15sNt\\x94bh\\x16h\\x19h\\x1b\\x85\\x94R\\x94(h\\x1b)}\\x94h\\x1fh\\x16sNt\\x94bhCh9hEh<ub\\x8c\\twildcards\\x94h\\x06\\x8c\\tWildcards\\x94\\x93\\x94)\\x81\\x94}\\x94(h\\r}\\x94h\\x13]\\x94(h\\x15h\\x16eh\\x15h\\x19h\\x1b\\x85\\x94R\\x94(h\\x1b)}\\x94h\\x1fh\\x15sNt\\x94bh\\x16h\\x19h\\x1b\\x85\\x94R\\x94(h\\x1b)}\\x94h\\x1fh\\x16sNt\\x94bub\\x8c\\x07threads\\x94K\\x01\\x8c\\tresources\\x94h\\x06\\x8c\\tResources\\x94\\x93\\x94)\\x81\\x94(K\\x01K\\x01e}\\x94(h\\r}\\x94(\\x8c\\x06_cores\\x94K\\x00N\\x86\\x94\\x8c\\x06_nodes\\x94K\\x01N\\x86\\x94uh\\x13]\\x94(h\\x15h\\x16eh\\x15h\\x19h\\x1b\\x85\\x94R\\x94(h\\x1b)}\\x94h\\x1fh\\x15sNt\\x94bh\\x16h\\x19h\\x1b\\x85\\x94R\\x94(h\\x1b)}\\x94h\\x1fh\\x16sNt\\x94bhfK\\x01hhK\\x01ub\\x8c\\x03log\\x94h\\x06\\x8c\\x03Log\\x94\\x93\\x94)\\x81\\x94\\x8c3results/logs/notebooks/outgroup_dist_analysis.ipynb\\x94a}\\x94(h\\r}\\x94\\x8c\\x08notebook\\x94K\\x00N\\x86\\x94sh\\x13]\\x94(h\\x15h\\x16eh\\x15h\\x19h\\x1b\\x85\\x94R\\x94(h\\x1b)}\\x94h\\x1fh\\x15sNt\\x94bh\\x16h\\x19h\\x1b\\x85\\x94R\\x94(h\\x1b)}\\x94h\\x1fh\\x16sNt\\x94bhzhwub\\x8c\\x06config\\x94}\\x94(\\x8c\\x08max_cpus\\x94K\\x04\\x8c\\x0bscratch_dir\\x94\\x8c\\x11results/_scratch/\\x94\\x8c\\nref_genome\\x94}\\x94(\\x8c\\x05fasta\\x94\\x8c}ftp://ftp.ncbi.nlm.nih.gov/genomes/all/GCF/009/858/895/GCF_009858895.2_ASM985889v3/GCF_009858895.2_ASM985889v3_genomic.fna.gz\\x94\\x8c\\x03gff\\x94\\x8c}ftp://ftp.ncbi.nlm.nih.gov/genomes/all/GCF/009/858/895/GCF_009858895.2_ASM985889v3/GCF_009858895.2_ASM985889v3_genomic.gff.gz\\x94\\x8c\\x04name\\x94\\x8c\\x07proCoV2\\x94\\x8c\\radd_mutations\\x94]\\x94(\\x8c\\x06C8782T\\x94\\x8c\\x07C18060T\\x94\\x8c\\x07T28144C\\x94eu\\x8c\\x12comparator_genomes\\x94}\\x94(h=}\\x94\\x8c\\x06gisaid\\x94\\x8c\\x0eEPI_ISL_402131\\x94sh>}\\x94\\x8c\\x06gisaid\\x94\\x8c\\x0eEPI_ISL_412977\\x94sh?}\\x94\\x8c\\x06gisaid\\x94\\x8c\\x0fEPI_ISL_1098866\\x94sh@}\\x94\\x8c\\x06gisaid\\x94\\x8c\\x0fEPI_ISL_1699446\\x94su\\x8c\\x16gisaid_comparator_dirs\\x94]\\x94\\x8c\\x1edata/comparator_genomes_gisaid\\x94a\\x8c\\nearly_seqs\\x94}\\x94\\x8c\\x06gisaid\\x94}\\x94\\x8c\\x16gisaid_through_Feb2020\\x94\\x8c&data/gisaid_sequences_through_Feb2020/\\x94ss\\x8c\\x16early_seq_header_props\\x94]\\x94(\\x8c\\x06strain\\x94\\x8c\\x0egisaid_epi_isl\\x94\\x8c\\x04date\\x94\\x8c\\x11genbank_accession\\x94\\x8c\\x07country\\x94\\x8c\\x08location\\x94\\x8c\\x03age\\x94\\x8c\\x03sex\\x94e\\x8c\\x08aligners\\x94]\\x94\\x8c\\x08minimap2\\x94a\\x8c\\x04minq\\x94K\\x14\\x8c\\x0fmin_read_length\\x94K\\x14\\x8c\\x16consensus_min_coverage\\x94K\\x05\\x8c\\x12consensus_min_frac\\x94G?\\xe9\\x99\\x99\\x99\\x99\\x99\\x9a\\x8c\\x14report_frac_coverage\\x94]\\x94(K\\x01K\\x02K\\x04K\\nK\\x14K2Kde\\x8c\\x12region_of_interest\\x94h9\\x8c\\x16who_china_report_cases\\x94\\x8c(data/WHO_China_Report_Dec2019_cases.yaml\\x94\\x8c\\x1awho_china_report_last_date\\x94\\x8c\\x08datetime\\x94\\x8c\\x04date\\x94\\x93\\x94C\\x04\\x07\\xe4\\x01\\x02\\x94\\x85\\x94R\\x94\\x8c\\x15early_seqs_to_exclude\\x94\\x8c\\x19data/seqs_to_exclude.yaml\\x94\\x8c\\x17early_seqs_min_coverage\\x94G?\\xec\\xcc\\xcc\\xcc\\xcc\\xcc\\xcd\\x8c\\x13early_seqs_max_subs\\x94K\\x12\\x8c\\x18early_seqs_max_ambiguous\\x94M\\x88\\x13\\x8c\\x11min_frac_coverage\\x94G?\\xd0\\x00\\x00\\x00\\x00\\x00\\x00\\x8c\\x14samples_fasterq_dump\\x94}\\x94\\x8c\\x0csamples_wget\\x94}\\x94(\\x8c\\x02A1\\x94}\\x94(\\x8c\\naccessions\\x94]\\x94(\\x8c\\x0bSRR11313282\\x94\\x8c\\x0bSRR11313334\\x94e\\x8c\\x0ccollected_by\\x94\\x8c#Renmin Hospital of Wuhan University\\x94\\x8c\\rpatient_group\\x94\\x8c\\x10early outpatient\\x94u\\x8c\\x02A2\\x94}\\x94(\\x8c\\naccessions\\x94]\\x94(\\x8c\\x0bSRR11313271\\x94\\x8c\\x0bSRR11313461\\x94e\\x8c\\x0ccollected_by\\x94\\x8c#Renmin Hospital of Wuhan University\\x94\\x8c\\rpatient_group\\x94\\x8c\\x10early outpatient\\x94u\\x8c\\x02A4\\x94}\\x94(\\x8c\\naccessions\\x94]\\x94(\\x8c\\x0bSRR11313417\\x94\\x8c\\x0bSRR11313428\\x94e\\x8c\\x0ccollected_by\\x94\\x8c#Renmin Hospital of Wuhan University\\x94\\x8c\\rpatient_group\\x94\\x8c\\x10early outpatient\\x94u\\x8c\\x02A6\\x94}\\x94(\\x8c\\naccessions\\x94]\\x94\\x8c\\x0bSRR11313479\\x94a\\x8c\\x0ccollected_by\\x94\\x8c#Renmin Hospital of Wuhan University\\x94\\x8c\\rpatient_group\\x94\\x8c\\x10early outpatient\\x94u\\x8c\\x02A9\\x94}\\x94(\\x8c\\naccessions\\x94]\\x94(\\x8c\\x0bSRR11313345\\x94\\x8c\\x0bSRR11313356\\x94e\\x8c\\x0ccollected_by\\x94\\x8c#Renmin Hospital of Wuhan University\\x94\\x8c\\rpatient_group\\x94\\x8c\\x10early outpatient\\x94u\\x8c\\x03A11\\x94}\\x94(\\x8c\\naccessions\\x94]\\x94(\\x8c\\x0bSRR11313455\\x94\\x8c\\x0bSRR11313456\\x94e\\x8c\\x0ccollected_by\\x94\\x8c#Renmin Hospital of Wuhan University\\x94\\x8c\\rpatient_group\\x94\\x8c\\x10early outpatient\\x94u\\x8c\\x03A12\\x94}\\x94(\\x8c\\naccessions\\x94]\\x94(\\x8c\\x0bSRR11313473\\x94\\x8c\\x0bSRR11313474\\x94e\\x8c\\x0ccollected_by\\x94\\x8c#Renmin Hospital of Wuhan University\\x94\\x8c\\rpatient_group\\x94\\x8c\\x10early outpatient\\x94u\\x8c\\x02B1\\x94}\\x94(\\x8c\\naccessions\\x94]\\x94(\\x8c\\x0bSRR11313453\\x94\\x8c\\x0bSRR11313454\\x94e\\x8c\\x0ccollected_by\\x94\\x8c#Renmin Hospital of Wuhan University\\x94\\x8c\\rpatient_group\\x94\\x8c\\x10early outpatient\\x94u\\x8c\\x02B2\\x94}\\x94(\\x8c\\naccessions\\x94]\\x94(\\x8c\\x0bSRR11313451\\x94\\x8c\\x0bSRR11313452\\x94e\\x8c\\x0ccollected_by\\x94\\x8c#Renmin Hospital of Wuhan University\\x94\\x8c\\rpatient_group\\x94\\x8c\\x10early outpatient\\x94u\\x8c\\x02B3\\x94}\\x94(\\x8c\\naccessions\\x94]\\x94(\\x8c\\x0bSRR11313448\\x94\\x8c\\x0bSRR11313449\\x94e\\x8c\\x0ccollected_by\\x94\\x8c#Renmin Hospital of Wuhan University\\x94\\x8c\\rpatient_group\\x94\\x8c\\x10early outpatient\\x94u\\x8c\\x02B4\\x94}\\x94(\\x8c\\naccessions\\x94]\\x94(\\x8c\\x0bSRR11313322\\x94\\x8c\\x0bSRR11313333\\x94e\\x8c\\x0ccollected_by\\x94\\x8c#Renmin Hospital of Wuhan University\\x94\\x8c\\rpatient_group\\x94\\x8c\\x10early outpatient\\x94u\\x8c\\x02B9\\x94}\\x94(\\x8c\\naccessions\\x94]\\x94(\\x8c\\x0bSRR11313445\\x94\\x8c\\x0bSRR11313446\\x94e\\x8c\\x0ccollected_by\\x94\\x8c#Renmin Hospital of Wuhan University\\x94\\x8c\\rpatient_group\\x94\\x8c\\x10early outpatient\\x94u\\x8c\\x02C1\\x94}\\x94(\\x8c\\naccessions\\x94]\\x94(\\x8c\\x0bSRR11313287\\x94\\x8c\\x0bSRR11313289\\x94e\\x8c\\x0ccollected_by\\x94\\x8c#Renmin Hospital of Wuhan University\\x94\\x8c\\rpatient_group\\x94\\x8c\\x10early outpatient\\x94u\\x8c\\x02C2\\x94}\\x94(\\x8c\\naccessions\\x94]\\x94(\\x8c\\x0bSRR11313285\\x94\\x8c\\x0bSRR11313286\\x94e\\x8c\\x0ccollected_by\\x94\\x8c#Renmin Hospital of Wuhan University\\x94\\x8c\\rpatient_group\\x94\\x8c\\x10early outpatient\\x94u\\x8c\\x02C9\\x94}\\x94(\\x8c\\naccessions\\x94]\\x94(\\x8c\\x0bSRR11313441\\x94\\x8c\\x0bSRR11313442\\x94e\\x8c\\x0ccollected_by\\x94\\x8c#Renmin Hospital of Wuhan University\\x94\\x8c\\rpatient_group\\x94\\x8c\\x10early outpatient\\x94u\\x8c\\x03C11\\x94}\\x94(\\x8c\\naccessions\\x94]\\x94(\\x8c\\x0bSRR11313300\\x94\\x8c\\x0bSRR11313311\\x94e\\x8c\\x0ccollected_by\\x94\\x8c#Renmin Hospital of Wuhan University\\x94\\x8c\\rpatient_group\\x94\\x8c\\x10early outpatient\\x94u\\x8c\\x03C12\\x94}\\x94(\\x8c\\naccessions\\x94]\\x94(\\x8c\\x0bSRR11313443\\x94\\x8c\\x0bSRR11313444\\x94e\\x8c\\x0ccollected_by\\x94\\x8c#Renmin Hospital of Wuhan University\\x94\\x8c\\rpatient_group\\x94\\x8c\\x10early outpatient\\x94u\\x8c\\x02D9\\x94}\\x94(\\x8c\\naccessions\\x94]\\x94(\\x8c\\x0bSRR11313436\\x94\\x8c\\x0bSRR11313437\\x94e\\x8c\\x0ccollected_by\\x94\\x8c#Renmin Hospital of Wuhan University\\x94\\x8c\\rpatient_group\\x94\\x8c\\x10early outpatient\\x94u\\x8c\\x03D11\\x94}\\x94(\\x8c\\naccessions\\x94]\\x94(\\x8c\\x0bSRR11313438\\x94\\x8c\\x0bSRR11313440\\x94e\\x8c\\x0ccollected_by\\x94\\x8c#Renmin Hospital of Wuhan University\\x94\\x8c\\rpatient_group\\x94\\x8c\\x10early outpatient\\x94u\\x8c\\x03D12\\x94}\\x94(\\x8c\\naccessions\\x94]\\x94(\\x8c\\x0bSRR11313280\\x94\\x8c\\x0bSRR11313281\\x94e\\x8c\\x0ccollected_by\\x94\\x8c#Renmin Hospital of Wuhan University\\x94\\x8c\\rpatient_group\\x94\\x8c\\x10early outpatient\\x94u\\x8c\\x02E1\\x94}\\x94(\\x8c\\naccessions\\x94]\\x94(\\x8c\\x0bSRR11313276\\x94\\x8c\\x0bSRR11313277\\x94e\\x8c\\x0ccollected_by\\x94\\x8c#Renmin Hospital of Wuhan University\\x94\\x8c\\rpatient_group\\x94\\x8c\\x10early outpatient\\x94u\\x8c\\x02E3\\x94}\\x94(\\x8c\\naccessions\\x94]\\x94(\\x8c\\x0bSRR11313430\\x94\\x8c\\x0bSRR11313431\\x94e\\x8c\\x0ccollected_by\\x94\\x8c#Renmin Hospital of Wuhan University\\x94\\x8c\\rpatient_group\\x94\\x8c\\x10early outpatient\\x94u\\x8c\\x02E5\\x94}\\x94(\\x8c\\naccessions\\x94]\\x94(\\x8c\\x0bSRR11313274\\x94\\x8c\\x0bSRR11313275\\x94e\\x8c\\x0ccollected_by\\x94\\x8c#Renmin Hospital of Wuhan University\\x94\\x8c\\rpatient_group\\x94\\x8c\\x10early outpatient\\x94u\\x8c\\x02E6\\x94}\\x94(\\x8c\\naccessions\\x94]\\x94(\\x8c\\x0bSRR11313427\\x94\\x8c\\x0bSRR11313429\\x94e\\x8c\\x0ccollected_by\\x94\\x8c#Renmin Hospital of Wuhan University\\x94\\x8c\\rpatient_group\\x94\\x8c\\x10early outpatient\\x94u\\x8c\\x03E11\\x94}\\x94(\\x8c\\naccessions\\x94]\\x94(\\x8c\\x0bSRR11313434\\x94\\x8c\\x0bSRR11313435\\x94e\\x8c\\x0ccollected_by\\x94\\x8c#Renmin Hospital of Wuhan University\\x94\\x8c\\rpatient_group\\x94\\x8c\\x10early outpatient\\x94u\\x8c\\x03E12\\x94}\\x94(\\x8c\\naccessions\\x94]\\x94(\\x8c\\x0bSRR11313432\\x94\\x8c\\x0bSRR11313433\\x94e\\x8c\\x0ccollected_by\\x94\\x8c#Renmin Hospital of Wuhan University\\x94\\x8c\\rpatient_group\\x94\\x8c\\x10early outpatient\\x94u\\x8c\\x02F5\\x94}\\x94(\\x8c\\naccessions\\x94]\\x94(\\x8c\\x0bSRR11313270\\x94\\x8c\\x0bSRR11313470\\x94e\\x8c\\x0ccollected_by\\x94\\x8c#Renmin Hospital of Wuhan University\\x94\\x8c\\rpatient_group\\x94\\x8c\\x10early outpatient\\x94u\\x8c\\x02F8\\x94}\\x94(\\x8c\\naccessions\\x94]\\x94(\\x8c\\x0bSRR11313423\\x94\\x8c\\x0bSRR11313424\\x94e\\x8c\\x0ccollected_by\\x94\\x8c#Renmin Hospital of Wuhan University\\x94\\x8c\\rpatient_group\\x94\\x8c\\x10early outpatient\\x94u\\x8c\\x03F11\\x94}\\x94(\\x8c\\naccessions\\x94]\\x94(\\x8c\\x0bSRR11313425\\x94\\x8c\\x0bSRR11313426\\x94e\\x8c\\x0ccollected_by\\x94\\x8c#Renmin Hospital of Wuhan University\\x94\\x8c\\rpatient_group\\x94\\x8c\\x10early outpatient\\x94u\\x8c\\x02G1\\x94}\\x94(\\x8c\\naccessions\\x94]\\x94(\\x8c\\x0bSRR11313468\\x94\\x8c\\x0bSRR11313469\\x94e\\x8c\\x0ccollected_by\\x94\\x8c#Renmin Hospital of Wuhan University\\x94\\x8c\\rpatient_group\\x94\\x8c\\x10early outpatient\\x94u\\x8c\\x03G11\\x94}\\x94(\\x8c\\naccessions\\x94]\\x94(\\x8c\\x0bSRR11313421\\x94\\x8c\\x0bSRR11313422\\x94e\\x8c\\x0ccollected_by\\x94\\x8c#Renmin Hospital of Wuhan University\\x94\\x8c\\rpatient_group\\x94\\x8c\\x10early outpatient\\x94u\\x8c\\x03G12\\x94}\\x94(\\x8c\\naccessions\\x94]\\x94(\\x8c\\x0bSRR11313419\\x94\\x8c\\x0bSRR11313420\\x94e\\x8c\\x0ccollected_by\\x94\\x8c#Renmin Hospital of Wuhan University\\x94\\x8c\\rpatient_group\\x94\\x8c\\x10early outpatient\\x94u\\x8c\\x02H9\\x94}\\x94(\\x8c\\naccessions\\x94]\\x94(\\x8c\\x0bSRR11313464\\x94\\x8c\\x0bSRR11313465\\x94e\\x8c\\x0ccollected_by\\x94\\x8c#Renmin Hospital of Wuhan University\\x94\\x8c\\rpatient_group\\x94\\x8c\\x10early outpatient\\x94u\\x8c\\x03H12\\x94}\\x94(\\x8c\\naccessions\\x94]\\x94(\\x8c\\x0bSRR11313466\\x94\\x8c\\x0bSRR11313467\\x94e\\x8c\\x0ccollected_by\\x94\\x8c#Renmin Hospital of Wuhan University\\x94\\x8c\\rpatient_group\\x94\\x8c\\x10early outpatient\\x94u\\x8c\\x03R01\\x94}\\x94(\\x8c\\naccessions\\x94]\\x94(\\x8c\\x0bSRR11313409\\x94\\x8c\\x0bSRR11313410\\x94e\\x8c\\x0ccollected_by\\x94\\x8c#Renmin Hospital of Wuhan University\\x94\\x8c\\rpatient_group\\x94\\x8c\\x16hospital patient (Feb)\\x94u\\x8c\\x03R02\\x94}\\x94(\\x8c\\naccessions\\x94]\\x94(\\x8c\\x0bSRR11313406\\x94\\x8c\\x0bSRR11313408\\x94e\\x8c\\x0ccollected_by\\x94\\x8c#Renmin Hospital of Wuhan University\\x94\\x8c\\rpatient_group\\x94\\x8c\\x16hospital patient (Feb)\\x94u\\x8c\\x03R03\\x94}\\x94(\\x8c\\naccessions\\x94]\\x94(\\x8c\\x0bSRR11313269\\x94\\x8c\\x0bSRR11313471\\x94e\\x8c\\x0ccollected_by\\x94\\x8c#Renmin Hospital of Wuhan University\\x94\\x8c\\rpatient_group\\x94\\x8c\\x16hospital patient (Feb)\\x94u\\x8c\\x03R04\\x94}\\x94(\\x8c\\naccessions\\x94]\\x94\\x8c\\x0bSRR11313509\\x94a\\x8c\\x0ccollected_by\\x94\\x8c#Renmin Hospital of Wuhan University\\x94\\x8c\\rpatient_group\\x94\\x8c\\x16hospital patient (Feb)\\x94u\\x8c\\x03R05\\x94}\\x94(\\x8c\\naccessions\\x94]\\x94(\\x8c\\x0bSRR11313507\\x94\\x8c\\x0bSRR11313508\\x94e\\x8c\\x0ccollected_by\\x94\\x8c#Renmin Hospital of Wuhan University\\x94\\x8c\\rpatient_group\\x94\\x8c\\x16hospital patient (Feb)\\x94u\\x8c\\x03R06\\x94}\\x94(\\x8c\\naccessions\\x94]\\x94(\\x8c\\x0bSRR11313505\\x94\\x8c\\x0bSRR11313506\\x94e\\x8c\\x0ccollected_by\\x94\\x8c#Renmin Hospital of Wuhan University\\x94\\x8c\\rpatient_group\\x94\\x8c\\x16hospital patient (Feb)\\x94u\\x8c\\x03R07\\x94}\\x94(\\x8c\\naccessions\\x94]\\x94(\\x8c\\x0bSRR11313503\\x94\\x8c\\x0bSRR11313504\\x94e\\x8c\\x0ccollected_by\\x94\\x8c#Renmin Hospital of Wuhan University\\x94\\x8c\\rpatient_group\\x94\\x8c\\x16hospital patient (Feb)\\x94u\\x8c\\x03R08\\x94}\\x94(\\x8c\\naccessions\\x94]\\x94(\\x8c\\x0bSRR11313500\\x94\\x8c\\x0bSRR11313502\\x94e\\x8c\\x0ccollected_by\\x94\\x8c#Renmin Hospital of Wuhan University\\x94\\x8c\\rpatient_group\\x94\\x8c\\x16hospital patient (Feb)\\x94u\\x8c\\x03R09\\x94}\\x94(\\x8c\\naccessions\\x94]\\x94\\x8c\\x0bSRR11313498\\x94a\\x8c\\x0ccollected_by\\x94\\x8c#Renmin Hospital of Wuhan University\\x94\\x8c\\rpatient_group\\x94\\x8c\\x16hospital patient (Feb)\\x94u\\x8c\\x03R10\\x94}\\x94(\\x8c\\naccessions\\x94]\\x94(\\x8c\\x0bSRR11313496\\x94\\x8c\\x0bSRR11313497\\x94e\\x8c\\x0ccollected_by\\x94\\x8c#Renmin Hospital of Wuhan University\\x94\\x8c\\rpatient_group\\x94\\x8c\\x16hospital patient (Feb)\\x94u\\x8c\\x03R11\\x94}\\x94(\\x8c\\naccessions\\x94]\\x94(\\x8c\\x0bSRR11313494\\x94\\x8c\\x0bSRR11313495\\x94e\\x8c\\x0ccollected_by\\x94\\x8c#Renmin Hospital of Wuhan University\\x94\\x8c\\rpatient_group\\x94\\x8c\\x16hospital patient (Feb)\\x94u\\x8c\\x03R12\\x94}\\x94(\\x8c\\naccessions\\x94]\\x94(\\x8c\\x0bSRR11313492\\x94\\x8c\\x0bSRR11313493\\x94e\\x8c\\x0ccollected_by\\x94\\x8c#Renmin Hospital of Wuhan University\\x94\\x8c\\rpatient_group\\x94\\x8c\\x16hospital patient (Feb)\\x94u\\x8c\\x03R13\\x94}\\x94(\\x8c\\naccessions\\x94]\\x94(\\x8c\\x0bSRR11313489\\x94\\x8c\\x0bSRR11313491\\x94e\\x8c\\x0ccollected_by\\x94\\x8c#Renmin Hospital of Wuhan University\\x94\\x8c\\rpatient_group\\x94\\x8c\\x16hospital patient (Feb)\\x94u\\x8c\\x03R14\\x94}\\x94(\\x8c\\naccessions\\x94]\\x94(\\x8c\\x0bSRR11313487\\x94\\x8c\\x0bSRR11313488\\x94e\\x8c\\x0ccollected_by\\x94\\x8c#Renmin Hospital of Wuhan University\\x94\\x8c\\rpatient_group\\x94\\x8c\\x16hospital patient (Feb)\\x94u\\x8c\\x03R15\\x94}\\x94(\\x8c\\naccessions\\x94]\\x94(\\x8c\\x0bSRR11313485\\x94\\x8c\\x0bSRR11313486\\x94e\\x8c\\x0ccollected_by\\x94\\x8c#Renmin Hospital of Wuhan University\\x94\\x8c\\rpatient_group\\x94\\x8c\\x16hospital patient (Feb)\\x94u\\x8c\\x03R16\\x94}\\x94(\\x8c\\naccessions\\x94]\\x94(\\x8c\\x0bSRR11313483\\x94\\x8c\\x0bSRR11313484\\x94e\\x8c\\x0ccollected_by\\x94\\x8c#Renmin Hospital of Wuhan University\\x94\\x8c\\rpatient_group\\x94\\x8c\\x16hospital patient (Feb)\\x94uuu\\x8c\\x04rule\\x94\\x8c\\x16outgroup_dist_analysis\\x94\\x8c\\x0fbench_iteration\\x94N\\x8c\\tscriptdir\\x94\\x8c-/home/jbloom/SARS-CoV-2_PRJNA612766/notebooks\\x94ub.'); from snakemake.logging import logger; logger.printshellcmds = False; import os; os.chdir('/home/jbloom/SARS-CoV-2_PRJNA612766');\n",
    "######## snakemake preamble end #########\n",
    "\n",
    "snakemake.input.comparator_map = 'results/genome_to_comparator/site_identity_map.csv'"
   ]
  },
  {
   "cell_type": "code",
   "execution_count": 2,
   "id": "6a936869-3d81-455f-aed0-f53844324b82",
   "metadata": {
    "execution": {
     "iopub.execute_input": "2021-06-05T16:56:17.964615Z",
     "iopub.status.busy": "2021-06-05T16:56:17.964336Z",
     "iopub.status.idle": "2021-06-05T16:56:17.968240Z",
     "shell.execute_reply": "2021-06-05T16:56:17.967479Z",
     "shell.execute_reply.started": "2021-06-05T16:56:17.964588Z"
    },
    "tags": []
   },
   "outputs": [],
   "source": [
    "early_seq_subs_file = snakemake.input.early_seq_subs\n",
    "early_seq_alignment_file = snakemake.input.early_seq_alignment\n",
    "comparator_map_file = snakemake.input.comparator_map\n",
    "region_of_interest = snakemake.params.region_of_interest\n",
    "comparators = snakemake.params.comparators"
   ]
  },
  {
   "cell_type": "markdown",
   "id": "709fa86c-ceca-4ed2-b9da-3bd2abd64437",
   "metadata": {},
   "source": [
    "Import Python packages:"
   ]
  },
  {
   "cell_type": "code",
   "execution_count": 3,
   "id": "3881c8b6-495b-499f-aaa0-cfd1acd1b4de",
   "metadata": {
    "execution": {
     "iopub.execute_input": "2021-06-05T16:56:17.969564Z",
     "iopub.status.busy": "2021-06-05T16:56:17.969308Z",
     "iopub.status.idle": "2021-06-05T16:56:18.696765Z",
     "shell.execute_reply": "2021-06-05T16:56:18.695597Z",
     "shell.execute_reply.started": "2021-06-05T16:56:17.969539Z"
    },
    "tags": []
   },
   "outputs": [],
   "source": [
    "import re\n",
    "\n",
    "import altair as alt\n",
    "\n",
    "import pandas as pd\n",
    "\n",
    "_ = alt.data_transformers.disable_max_rows()"
   ]
  },
  {
   "cell_type": "markdown",
   "id": "98af792c-7f6c-4586-81f0-1bb15fe4ff57",
   "metadata": {},
   "source": [
    "Read early sequence substitutions and comparator map:"
   ]
  },
  {
   "cell_type": "code",
   "execution_count": 4,
   "id": "f80d31d5-68df-47c7-8900-e449220dba89",
   "metadata": {
    "execution": {
     "iopub.execute_input": "2021-06-05T16:56:18.698331Z",
     "iopub.status.busy": "2021-06-05T16:56:18.698033Z",
     "iopub.status.idle": "2021-06-05T16:56:18.738740Z",
     "shell.execute_reply": "2021-06-05T16:56:18.737673Z",
     "shell.execute_reply.started": "2021-06-05T16:56:18.698302Z"
    },
    "tags": []
   },
   "outputs": [],
   "source": [
    "early_seq_subs = (\n",
    "    pd.read_csv(early_seq_subs_file, na_filter=None)\n",
    "    .assign(date=lambda x: pd.to_datetime(x['date']))\n",
    "    )\n",
    "\n",
    "comparator_map = pd.read_csv(comparator_map_file)"
   ]
  },
  {
   "cell_type": "markdown",
   "id": "06008f90-e1cb-4067-90c8-9032774d7cc0",
   "metadata": {},
   "source": [
    "Annotate whether strains from Wuhan, elsewhere in China, or outside China:"
   ]
  },
  {
   "cell_type": "code",
   "execution_count": 5,
   "id": "d4c14873-36cd-4712-986c-2dfe60e84da4",
   "metadata": {
    "execution": {
     "iopub.execute_input": "2021-06-05T16:56:18.739970Z",
     "iopub.status.busy": "2021-06-05T16:56:18.739743Z",
     "iopub.status.idle": "2021-06-05T16:56:18.791867Z",
     "shell.execute_reply": "2021-06-05T16:56:18.791136Z",
     "shell.execute_reply.started": "2021-06-05T16:56:18.739948Z"
    },
    "tags": []
   },
   "outputs": [
    {
     "data": {
      "text/html": [
       "<div>\n",
       "<style scoped>\n",
       "    .dataframe tbody tr th:only-of-type {\n",
       "        vertical-align: middle;\n",
       "    }\n",
       "\n",
       "    .dataframe tbody tr th {\n",
       "        vertical-align: top;\n",
       "    }\n",
       "\n",
       "    .dataframe thead th {\n",
       "        text-align: right;\n",
       "    }\n",
       "</style>\n",
       "<table border=\"1\" class=\"dataframe\">\n",
       "  <thead>\n",
       "    <tr style=\"text-align: right;\">\n",
       "      <th></th>\n",
       "      <th>n_seqs</th>\n",
       "    </tr>\n",
       "    <tr>\n",
       "      <th>location_category</th>\n",
       "      <th></th>\n",
       "    </tr>\n",
       "  </thead>\n",
       "  <tbody>\n",
       "    <tr>\n",
       "      <th>Wuhan</th>\n",
       "      <td>144</td>\n",
       "    </tr>\n",
       "    <tr>\n",
       "      <th>elsewhere in China</th>\n",
       "      <td>619</td>\n",
       "    </tr>\n",
       "    <tr>\n",
       "      <th>outside China</th>\n",
       "      <td>1119</td>\n",
       "    </tr>\n",
       "  </tbody>\n",
       "</table>\n",
       "</div>"
      ],
      "text/plain": [
       "                    n_seqs\n",
       "location_category         \n",
       "Wuhan                  144\n",
       "elsewhere in China     619\n",
       "outside China         1119"
      ]
     },
     "execution_count": 5,
     "metadata": {},
     "output_type": "execute_result"
    }
   ],
   "source": [
    "assert early_seq_subs['country'].notnull().all()\n",
    "\n",
    "def location_category(row):\n",
    "    if 'Wuhan' in row['location'] or 'Wuhan' in row['strain']:\n",
    "        return 'Wuhan'\n",
    "    elif 'China' in row['country']:\n",
    "        return 'elsewhere in China'\n",
    "    else:\n",
    "        return 'outside China'\n",
    "\n",
    "early_seq_subs['location_category'] = early_seq_subs.apply(location_category, axis=1)\n",
    "\n",
    "early_seq_subs.groupby('location_category').aggregate(n_seqs=pd.NamedAgg('strain', 'count'))"
   ]
  },
  {
   "cell_type": "markdown",
   "id": "af8cbe21-d335-4b16-b326-d148a75c3d11",
   "metadata": {},
   "source": [
    "Plot number of sequences from each location as function of date:"
   ]
  },
  {
   "cell_type": "code",
   "execution_count": 6,
   "id": "366a41be-9650-4bee-b4cc-6201a57f6463",
   "metadata": {
    "execution": {
     "iopub.execute_input": "2021-06-05T16:56:18.793061Z",
     "iopub.status.busy": "2021-06-05T16:56:18.792845Z",
     "iopub.status.idle": "2021-06-05T16:56:18.837140Z",
     "shell.execute_reply": "2021-06-05T16:56:18.836395Z",
     "shell.execute_reply.started": "2021-06-05T16:56:18.793041Z"
    },
    "tags": []
   },
   "outputs": [
    {
     "data": {
      "text/html": [
       "\n",
       "<div id=\"altair-viz-3cec00c57c574b6ba4a135eb22940e07\"></div>\n",
       "<script type=\"text/javascript\">\n",
       "  (function(spec, embedOpt){\n",
       "    let outputDiv = document.currentScript.previousElementSibling;\n",
       "    if (outputDiv.id !== \"altair-viz-3cec00c57c574b6ba4a135eb22940e07\") {\n",
       "      outputDiv = document.getElementById(\"altair-viz-3cec00c57c574b6ba4a135eb22940e07\");\n",
       "    }\n",
       "    const paths = {\n",
       "      \"vega\": \"https://cdn.jsdelivr.net/npm//vega@5?noext\",\n",
       "      \"vega-lib\": \"https://cdn.jsdelivr.net/npm//vega-lib?noext\",\n",
       "      \"vega-lite\": \"https://cdn.jsdelivr.net/npm//vega-lite@4.8.1?noext\",\n",
       "      \"vega-embed\": \"https://cdn.jsdelivr.net/npm//vega-embed@6?noext\",\n",
       "    };\n",
       "\n",
       "    function loadScript(lib) {\n",
       "      return new Promise(function(resolve, reject) {\n",
       "        var s = document.createElement('script');\n",
       "        s.src = paths[lib];\n",
       "        s.async = true;\n",
       "        s.onload = () => resolve(paths[lib]);\n",
       "        s.onerror = () => reject(`Error loading script: ${paths[lib]}`);\n",
       "        document.getElementsByTagName(\"head\")[0].appendChild(s);\n",
       "      });\n",
       "    }\n",
       "\n",
       "    function showError(err) {\n",
       "      outputDiv.innerHTML = `<div class=\"error\" style=\"color:red;\">${err}</div>`;\n",
       "      throw err;\n",
       "    }\n",
       "\n",
       "    function displayChart(vegaEmbed) {\n",
       "      vegaEmbed(outputDiv, spec, embedOpt)\n",
       "        .catch(err => showError(`Javascript Error: ${err.message}<br>This usually means there's a typo in your chart specification. See the javascript console for the full traceback.`));\n",
       "    }\n",
       "\n",
       "    if(typeof define === \"function\" && define.amd) {\n",
       "      requirejs.config({paths});\n",
       "      require([\"vega-embed\"], displayChart, err => showError(`Error loading script: ${err.message}`));\n",
       "    } else if (typeof vegaEmbed === \"function\") {\n",
       "      displayChart(vegaEmbed);\n",
       "    } else {\n",
       "      loadScript(\"vega\")\n",
       "        .then(() => loadScript(\"vega-lite\"))\n",
       "        .then(() => loadScript(\"vega-embed\"))\n",
       "        .catch(showError)\n",
       "        .then(() => displayChart(vegaEmbed));\n",
       "    }\n",
       "  })({\"config\": {\"view\": {\"continuousWidth\": 400, \"continuousHeight\": 300}, \"axis\": {\"grid\": false}, \"point\": {\"size\": 65}}, \"data\": {\"name\": \"data-5a6109cf9fd911ac3fe3a19e7b779a2a\"}, \"mark\": {\"type\": \"line\", \"point\": true}, \"encoding\": {\"color\": {\"type\": \"nominal\", \"field\": \"location_category\", \"legend\": {\"title\": \"location\"}, \"scale\": {\"range\": [\"#E69F00\", \"#009E73\", \"#F0E442\"]}}, \"tooltip\": [{\"type\": \"temporal\", \"field\": \"date\"}, {\"type\": \"quantitative\", \"field\": \"nseqs\", \"title\": \"number of sequences\"}, {\"type\": \"nominal\", \"field\": \"location_category\", \"title\": \"location\"}], \"x\": {\"type\": \"temporal\", \"axis\": {\"format\": \"%b %d\", \"labelAngle\": -90, \"tickCount\": 10, \"values\": [\"2019-12-27T00:00:00\", \"2020-01-03T00:00:00\", \"2020-01-10T00:00:00\", \"2020-01-17T00:00:00\", \"2020-01-24T00:00:00\", \"2020-01-31T00:00:00\", \"2020-02-07T00:00:00\", \"2020-02-14T00:00:00\", \"2020-02-21T00:00:00\", \"2020-02-28T00:00:00\"]}, \"field\": \"date\", \"title\": \"week in 2019 or 2020\"}, \"y\": {\"type\": \"quantitative\", \"field\": \"nseqs\", \"title\": \"sequences from prior week\"}}, \"height\": 150, \"width\": 275, \"$schema\": \"https://vega.github.io/schema/vega-lite/v4.8.1.json\", \"datasets\": {\"data-5a6109cf9fd911ac3fe3a19e7b779a2a\": [{\"location_category\": \"Wuhan\", \"date\": \"2019-12-27T00:00:00\", \"nseqs\": 2}, {\"location_category\": \"Wuhan\", \"date\": \"2020-01-03T00:00:00\", \"nseqs\": 15}, {\"location_category\": \"Wuhan\", \"date\": \"2020-01-10T00:00:00\", \"nseqs\": 2}, {\"location_category\": \"Wuhan\", \"date\": \"2020-01-17T00:00:00\", \"nseqs\": 1}, {\"location_category\": \"Wuhan\", \"date\": \"2020-01-24T00:00:00\", \"nseqs\": 7}, {\"location_category\": \"Wuhan\", \"date\": \"2020-01-31T00:00:00\", \"nseqs\": 53}, {\"location_category\": \"Wuhan\", \"date\": \"2020-02-07T00:00:00\", \"nseqs\": 7}, {\"location_category\": \"Wuhan\", \"date\": \"2020-02-14T00:00:00\", \"nseqs\": 15}, {\"location_category\": \"Wuhan\", \"date\": \"2020-02-21T00:00:00\", \"nseqs\": 9}, {\"location_category\": \"Wuhan\", \"date\": \"2020-02-28T00:00:00\", \"nseqs\": 33}, {\"location_category\": \"elsewhere in China\", \"date\": \"2020-01-10T00:00:00\", \"nseqs\": 3}, {\"location_category\": \"elsewhere in China\", \"date\": \"2020-01-17T00:00:00\", \"nseqs\": 16}, {\"location_category\": \"elsewhere in China\", \"date\": \"2020-01-24T00:00:00\", \"nseqs\": 94}, {\"location_category\": \"elsewhere in China\", \"date\": \"2020-01-31T00:00:00\", \"nseqs\": 182}, {\"location_category\": \"elsewhere in China\", \"date\": \"2020-02-07T00:00:00\", \"nseqs\": 179}, {\"location_category\": \"elsewhere in China\", \"date\": \"2020-02-14T00:00:00\", \"nseqs\": 78}, {\"location_category\": \"elsewhere in China\", \"date\": \"2020-02-21T00:00:00\", \"nseqs\": 30}, {\"location_category\": \"elsewhere in China\", \"date\": \"2020-02-28T00:00:00\", \"nseqs\": 37}, {\"location_category\": \"outside China\", \"date\": \"2020-01-10T00:00:00\", \"nseqs\": 3}, {\"location_category\": \"outside China\", \"date\": \"2020-01-17T00:00:00\", \"nseqs\": 4}, {\"location_category\": \"outside China\", \"date\": \"2020-01-24T00:00:00\", \"nseqs\": 47}, {\"location_category\": \"outside China\", \"date\": \"2020-01-31T00:00:00\", \"nseqs\": 111}, {\"location_category\": \"outside China\", \"date\": \"2020-02-07T00:00:00\", \"nseqs\": 80}, {\"location_category\": \"outside China\", \"date\": \"2020-02-14T00:00:00\", \"nseqs\": 84}, {\"location_category\": \"outside China\", \"date\": \"2020-02-21T00:00:00\", \"nseqs\": 244}, {\"location_category\": \"outside China\", \"date\": \"2020-02-28T00:00:00\", \"nseqs\": 546}]}}, {\"mode\": \"vega-lite\"});\n",
       "</script>"
      ],
      "text/plain": [
       "alt.Chart(...)"
      ]
     },
     "execution_count": 6,
     "metadata": {},
     "output_type": "execute_result"
    }
   ],
   "source": [
    "# get counts per week as here, with counts being the week\n",
    "# before that date\n",
    "location_date_df = (\n",
    "    early_seq_subs\n",
    "    [['strain', 'location_category', 'date']]\n",
    "    # https://stackoverflow.com/a/45281439/4191652\n",
    "    .groupby(['location_category',\n",
    "              pd.Grouper(key='date', freq='W-FRI')],\n",
    "              )\n",
    "    .aggregate(nseqs=pd.NamedAgg('strain', 'count'))\n",
    "    .reset_index()\n",
    "    )\n",
    "\n",
    "# make chart\n",
    "location_date_chart = (\n",
    "    alt.Chart(location_date_df)\n",
    "    .encode(x=alt.X('date:T',\n",
    "                    axis=alt.Axis(labelAngle=-90,\n",
    "                                  values=location_date_df['date'].unique(),\n",
    "                                  format='%b %d',\n",
    "                                  tickCount=location_date_df['date'].nunique(),\n",
    "                                  ),\n",
    "                    title='week in 2019 or 2020',\n",
    "                    ),\n",
    "            y=alt.Y('nseqs',\n",
    "                    title='sequences from prior week',\n",
    "                    ),\n",
    "            color=alt.Color('location_category',\n",
    "                            legend=alt.Legend(title='location'),\n",
    "                            scale=alt.Scale(range=['#E69F00', '#009E73', '#F0E442'])\n",
    "                            ),\n",
    "            tooltip=['date',\n",
    "                     alt.Tooltip('nseqs',\n",
    "                                 title='number of sequences',\n",
    "                                 ),\n",
    "                     alt.Tooltip('location_category',\n",
    "                                 title='location',\n",
    "                                 ),\n",
    "                     ],\n",
    "            )\n",
    "    .mark_line(point=True)\n",
    "    .configure_point(size=65)\n",
    "    .configure_axis(grid=False)\n",
    "    .properties(width=275,\n",
    "                height=150,\n",
    "                )\n",
    "    )\n",
    "\n",
    "location_date_chart"
   ]
  },
  {
   "cell_type": "markdown",
   "id": "d2d57f3f-d245-485d-bb70-5804df0de01f",
   "metadata": {},
   "source": [
    "Define a function that computes the total change in Hamming distance from each comparator relative to the reference based on the substitutions:"
   ]
  },
  {
   "cell_type": "code",
   "execution_count": 7,
   "id": "ee995e1b-5705-4209-a853-2699d2d48d30",
   "metadata": {
    "execution": {
     "iopub.execute_input": "2021-06-05T16:56:18.838446Z",
     "iopub.status.busy": "2021-06-05T16:56:18.838214Z",
     "iopub.status.idle": "2021-06-05T16:56:18.890226Z",
     "shell.execute_reply": "2021-06-05T16:56:18.889149Z",
     "shell.execute_reply.started": "2021-06-05T16:56:18.838423Z"
    },
    "tags": []
   },
   "outputs": [],
   "source": [
    "site_to_ref = comparator_map.set_index('site')['reference'].to_dict()\n",
    "comparator_site_to_nt = {comparator: comparator_map.set_index('site')[comparator].to_dict()\n",
    "                         for comparator in comparators}\n",
    "\n",
    "def delta_distance_comparator(subs_str, comparator):\n",
    "    \"\"\"Total change in Hamming distance from comparator relative to reference.\"\"\"\n",
    "    site_to_nt = comparator_site_to_nt[comparator]\n",
    "    n = 0\n",
    "    for s in [s for s in subs_str.split(',') if s]:\n",
    "        m = re.fullmatch('(?P<wt>[ACGT])(?P<site>\\d+)(?P<mut>[ACGT])', s)\n",
    "        if not m:\n",
    "            raise ValueError(f\"cannot match {s}\")\n",
    "        wt = m.group('wt')\n",
    "        site = int(m.group('site'))\n",
    "        mut = m.group('mut')\n",
    "        assert site_to_ref[site] == wt\n",
    "        comp = site_to_nt[site]\n",
    "        if comp in 'ACGT':\n",
    "            if mut == comp:\n",
    "                n -= 1\n",
    "            elif mut != comp:\n",
    "                n += 1\n",
    "        elif comp not in ['-', 'N']:\n",
    "            raise ValueError(f\"invalid comparator identity {comp}\")\n",
    "    return n"
   ]
  },
  {
   "cell_type": "markdown",
   "id": "00f3451e-973d-47af-8ed2-8ba220423cc8",
   "metadata": {},
   "source": [
    "Apply this function to each comparator:"
   ]
  },
  {
   "cell_type": "code",
   "execution_count": 8,
   "id": "0d3daea0-e164-4f88-9fdf-2d461044cc98",
   "metadata": {
    "execution": {
     "iopub.execute_input": "2021-06-05T16:56:18.892141Z",
     "iopub.status.busy": "2021-06-05T16:56:18.891904Z",
     "iopub.status.idle": "2021-06-05T16:56:18.990327Z",
     "shell.execute_reply": "2021-06-05T16:56:18.989393Z",
     "shell.execute_reply.started": "2021-06-05T16:56:18.892118Z"
    },
    "tags": []
   },
   "outputs": [],
   "source": [
    "for comparator in comparators:\n",
    "    early_seq_subs[f\"{comparator}_delta_dist\"] = (early_seq_subs\n",
    "                                                  ['substitutions']\n",
    "                                                  .apply(delta_distance_comparator,\n",
    "                                                         args=(comparator,)\n",
    "                                                         )\n",
    "                                                  )"
   ]
  },
  {
   "cell_type": "markdown",
   "id": "66b26c15-a97b-4a76-b03f-d1491f15f048",
   "metadata": {
    "execution": {
     "iopub.execute_input": "2021-06-05T14:50:15.529172Z",
     "iopub.status.busy": "2021-06-05T14:50:15.528973Z",
     "iopub.status.idle": "2021-06-05T14:50:15.568412Z",
     "shell.execute_reply": "2021-06-05T14:50:15.567808Z",
     "shell.execute_reply.started": "2021-06-05T14:50:15.529152Z"
    },
    "tags": []
   },
   "source": [
    "Make a tidy data frame with these delta distances:"
   ]
  },
  {
   "cell_type": "code",
   "execution_count": 9,
   "id": "326e66bc-2be5-4a03-9402-7667ff82997d",
   "metadata": {
    "execution": {
     "iopub.execute_input": "2021-06-05T16:56:18.991606Z",
     "iopub.status.busy": "2021-06-05T16:56:18.991385Z",
     "iopub.status.idle": "2021-06-05T16:56:19.039718Z",
     "shell.execute_reply": "2021-06-05T16:56:19.038725Z",
     "shell.execute_reply.started": "2021-06-05T16:56:18.991583Z"
    },
    "tags": []
   },
   "outputs": [],
   "source": [
    "assert len(early_seq_subs) == early_seq_subs['strain'].nunique()\n",
    "\n",
    "delta_dist = (\n",
    "    early_seq_subs\n",
    "    .melt(id_vars=['strain', 'gisaid_epi_isl', 'date', 'country', 'location_category',\n",
    "                   'frac_called', 'substitutions', 'n_subs_to_ref'],\n",
    "          value_vars=[f\"{comparator}_substitutions\" for comparator in comparators],\n",
    "          var_name='outgroup',\n",
    "          value_name='substitutions_to_outgroup')\n",
    "    .assign(outgroup=lambda x: x['outgroup'].str.replace('_substitutions', ''))\n",
    "    .merge(early_seq_subs.melt(id_vars='strain',\n",
    "                               value_vars=[f\"{comparator}_delta_dist\" for\n",
    "                                           comparator in comparators],\n",
    "                               var_name='outgroup',\n",
    "                               value_name='delta_distance_to_outgroup',\n",
    "                               )\n",
    "                         .assign(outgroup=lambda x: x['outgroup'].str\n",
    "                                                    .replace('_delta_dist', '')\n",
    "                                 ),\n",
    "           on=['strain', 'outgroup'],\n",
    "           validate='one_to_one',\n",
    "           )\n",
    "    )\n",
    "\n",
    "assert len(delta_dist) == len(early_seq_subs) * len(comparators)"
   ]
  },
  {
   "cell_type": "markdown",
   "id": "30694d9a-4229-4b66-9941-a33dffe6314e",
   "metadata": {},
   "source": [
    "135 on Feb-29\n",
    "185 on Feb 28"
   ]
  },
  {
   "cell_type": "code",
   "execution_count": null,
   "id": "85a82a07-87a7-4f37-89ad-fc5c6cc4c98b",
   "metadata": {},
   "outputs": [],
   "source": []
  }
 ],
 "metadata": {
  "kernelspec": {
   "display_name": "Python 3",
   "language": "python",
   "name": "python3"
  },
  "language_info": {
   "codemirror_mode": {
    "name": "ipython",
    "version": 3
   },
   "file_extension": ".py",
   "mimetype": "text/x-python",
   "name": "python",
   "nbconvert_exporter": "python",
   "pygments_lexer": "ipython3",
   "version": "3.8.10"
  }
 },
 "nbformat": 4,
 "nbformat_minor": 5
}
