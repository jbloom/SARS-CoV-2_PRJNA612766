{
 "cells": [
  {
   "cell_type": "markdown",
   "id": "6e166d81-9ee4-4b30-9689-379ea8353d7f",
   "metadata": {},
   "source": [
    "# Aggregate the consensus sequences\n",
    "Get variables from `snakemake`:"
   ]
  },
  {
   "cell_type": "code",
   "execution_count": null,
   "id": "9c15cbf6-147c-467e-8db7-0d0268f39927",
   "metadata": {
    "tags": []
   },
   "outputs": [],
   "source": [
    "consensus_seqs = snakemake.input.consensus_seqs\n",
    "output_csv = snakemake.output.csv\n",
    "descriptors = snakemake.params.descriptors"
   ]
  },
  {
   "cell_type": "markdown",
   "id": "df1e6d1b-9330-41ab-a021-cb358ca2fbf0",
   "metadata": {},
   "source": [
    "Import Python modules:"
   ]
  },
  {
   "cell_type": "code",
   "execution_count": null,
   "id": "edb80291-a714-4f33-82f1-f33681285fc5",
   "metadata": {},
   "outputs": [],
   "source": [
    "import Bio.SeqIO\n",
    "\n",
    "import pandas as pd"
   ]
  },
  {
   "cell_type": "markdown",
   "id": "8c624d5e-cbc2-4ba3-b9f6-ec7dd04944d6",
   "metadata": {},
   "source": [
    "Make data frame with all consensus sequences:"
   ]
  },
  {
   "cell_type": "code",
   "execution_count": null,
   "id": "68f7ef13-67cd-4caa-b500-7fab8356b773",
   "metadata": {},
   "outputs": [],
   "source": [
    "assert len(descriptors) == len(consensus_seqs)\n",
    "\n",
    "seqs = (\n",
    "    pd.DataFrame([(descriptor['sample'],\n",
    "                   descriptor['aligner'],\n",
    "                   str(Bio.SeqIO.read(f, 'fasta').seq),\n",
    "                   )\n",
    "                  for f, descriptor in zip(consensus_seqs, descriptors)\n",
    "                  ],\n",
    "                 columns=['sample', 'aligner', 'sequence'])\n",
    "    )\n",
    "\n",
    "seqs"
   ]
  },
  {
   "cell_type": "markdown",
   "id": "54f9a9f6-1957-4aef-84fe-53a9563bf575",
   "metadata": {},
   "source": [
    "Write sequences to a file:"
   ]
  },
  {
   "cell_type": "code",
   "execution_count": null,
   "id": "010e3c81-4c2c-4610-9daf-29898946eb2c",
   "metadata": {},
   "outputs": [],
   "source": [
    "print(f\"Writing the consensus sequences to {output_csv}\")\n",
    "\n",
    "seqs.to_csv(output_csv, index=False)"
   ]
  }
 ],
 "metadata": {
  "kernelspec": {
   "display_name": "Python 3",
   "language": "python",
   "name": "python3"
  },
  "language_info": {
   "codemirror_mode": {
    "name": "ipython",
    "version": 3
   },
   "file_extension": ".py",
   "mimetype": "text/x-python",
   "name": "python",
   "nbconvert_exporter": "python",
   "pygments_lexer": "ipython3",
   "version": "3.8.10"
  }
 },
 "nbformat": 4,
 "nbformat_minor": 5
}
