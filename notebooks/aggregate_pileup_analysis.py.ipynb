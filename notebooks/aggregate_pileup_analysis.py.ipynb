{
 "cells": [
  {
   "cell_type": "markdown",
   "id": "b479413a-4adf-4772-b381-59bfdc1b9ca9",
   "metadata": {},
   "source": [
    "# Aggregate analysis of pileups / consensus sequences from viral deep sequencing\n",
    "\n",
    "Import Python modules:"
   ]
  },
  {
   "cell_type": "code",
   "execution_count": null,
   "id": "b1546d87-00bc-49e9-895b-70a2421dd34c",
   "metadata": {
    "tags": []
   },
   "outputs": [],
   "source": [
    "import itertools\n",
    "\n",
    "import altair as alt\n",
    "\n",
    "import pandas as pd"
   ]
  },
  {
   "cell_type": "markdown",
   "id": "3edb3c9c-2ca0-4dbf-bcc8-f884a4012258",
   "metadata": {},
   "source": [
    "Get variables from `snakemake`:"
   ]
  },
  {
   "cell_type": "code",
   "execution_count": null,
   "id": "68f27ea9-1cc6-4133-baec-a0b2e9891928",
   "metadata": {
    "tags": []
   },
   "outputs": [],
   "source": [
    "diffs_from_ref_files = snakemake.input.diffs_from_ref\n",
    "frac_coverage_files = snakemake.input.frac_coverage\n",
    "comparator_map_file = snakemake.input.comparator_map\n",
    "frac_coverage_stats_file = snakemake.output.frac_coverage_stats\n",
    "frac_coverage_chart_file = snakemake.output.frac_coverage_chart\n",
    "diffs_from_ref_stats_file = snakemake.output.diffs_from_ref_stats\n",
    "diffs_from_ref_chart_file = snakemake.output.diffs_from_ref_chart\n",
    "samples = snakemake.params.samples\n",
    "\n",
    "assert len(frac_coverage_files) == len(samples)\n",
    "assert len(diffs_from_ref_files) == len(samples)"
   ]
  },
  {
   "cell_type": "markdown",
   "id": "bab99f59-1516-4fcd-98d7-bbea71b64746",
   "metadata": {},
   "source": [
    "Read in frac coverage for all samples:"
   ]
  },
  {
   "cell_type": "code",
   "execution_count": null,
   "id": "a81bcc6c-fb58-432a-824f-90c6961bfa5b",
   "metadata": {
    "tags": []
   },
   "outputs": [],
   "source": [
    "frac_coverage = (\n",
    "    pd.concat([pd.read_csv(f).assign(sample=sample)\n",
    "               for f, sample in zip(frac_coverage_files, samples)],\n",
    "              ignore_index=True)\n",
    "    )\n",
    "\n",
    "frac_coverage = frac_coverage[['sample', *frac_coverage.columns.tolist()[: -1]]]\n",
    "\n",
    "print(f\"Writing to {frac_coverage_stats_file}\")\n",
    "\n",
    "frac_coverage.to_csv(frac_coverage_stats_file, float_format='%.4g', index=False)\n",
    "\n",
    "frac_coverage"
   ]
  },
  {
   "cell_type": "markdown",
   "id": "1285d32e-261a-4a39-bda4-c61dcc5e7f68",
   "metadata": {},
   "source": [
    "Plot frac coverage for all samples:"
   ]
  },
  {
   "cell_type": "code",
   "execution_count": null,
   "id": "f6024c06-5e8a-4b3f-a89f-b26e5130390d",
   "metadata": {
    "tags": []
   },
   "outputs": [],
   "source": [
    "cutoff_selection = alt.selection_multi(\n",
    "        fields=['depth_cutoff'],\n",
    "        bind='legend',\n",
    "        init=[{'depth_cutoff': frac_coverage['depth_cutoff'][0]}]\n",
    "        )\n",
    "\n",
    "aligner_selection = alt.selection_single(\n",
    "        name='read',\n",
    "        fields=['aligner'],\n",
    "        bind=alt.binding_select(options=frac_coverage['aligner'].unique()),\n",
    "        init={'aligner': frac_coverage['aligner'][0]}\n",
    "        )\n",
    "\n",
    "frac_coverage_chart = (\n",
    "    alt.Chart(frac_coverage)\n",
    "    .encode(x=alt.X('frac_above_cutoff:Q',\n",
    "                    scale=alt.Scale(domain=(0, 1))\n",
    "                    ),\n",
    "            y=alt.Y('sample:N'),\n",
    "            color=alt.condition(cutoff_selection, 'depth_cutoff:N', alt.value(None)),\n",
    "            tooltip=['sample',\n",
    "                     'depth_cutoff',\n",
    "                     alt.Tooltip('frac_above_cutoff', format='.4g'),\n",
    "                     'sites_above_cutoff',\n",
    "                     ]\n",
    "            )\n",
    "    .mark_point(filled=True,\n",
    "                size=75)\n",
    "    .add_selection(cutoff_selection,\n",
    "                   aligner_selection)\n",
    "    .transform_filter(aligner_selection)\n",
    "    .properties(title={'text': 'Fraction of sites exceeding depth cutoff',\n",
    "                       'subtitle': 'Use (shift) click to select depth cutoffs'})\n",
    "    )\n",
    "\n",
    "print(f\"Saving chart to {frac_coverage_chart_file}\")\n",
    "\n",
    "frac_coverage_chart.save(frac_coverage_chart_file)\n",
    "\n",
    "frac_coverage_chart"
   ]
  },
  {
   "cell_type": "markdown",
   "id": "f4764f1e-a913-472f-b411-8ba3c6d37c75",
   "metadata": {},
   "source": [
    "Get data frame of differences from reference, adding in the comparator identities"
   ]
  },
  {
   "cell_type": "code",
   "execution_count": null,
   "id": "50110836-cb7f-4207-851d-d4ab46ce757a",
   "metadata": {
    "tags": []
   },
   "outputs": [],
   "source": [
    "nts = ['A', 'C', 'G', 'T']\n",
    "\n",
    "comparator_map = pd.read_csv(comparator_map_file)\n",
    "\n",
    "diffs_from_ref = (\n",
    "    pd.concat([pd.read_csv(f).assign(sample=sample)\n",
    "               for f, sample in zip(diffs_from_ref_files, samples)],\n",
    "              ignore_index=False)\n",
    "    .drop(columns=['depth', 'consensus_frac'])\n",
    "    [['sample', 'aligner', 'site', 'reference', 'consensus', *nts]]\n",
    "    .merge(comparator_map,\n",
    "           on=['site', 'reference'],\n",
    "           validate='many_to_one',\n",
    "           how='left')\n",
    "    )\n",
    "\n",
    "assert diffs_from_ref.notnull().all().all()"
   ]
  },
  {
   "cell_type": "code",
   "execution_count": null,
   "id": "09b563f1-88b4-4a64-8d74-11a7c99ee8d4",
   "metadata": {
    "tags": []
   },
   "outputs": [],
   "source": [
    "print(f\"Writing to {diffs_from_ref_stats_file}\")\n",
    "\n",
    "diffs_from_ref.to_csv(diffs_from_ref_stats_file, index=False)\n",
    "\n",
    "diffs_from_ref"
   ]
  },
  {
   "cell_type": "markdown",
   "id": "9676601d-ce40-4517-89d9-eed13f7fb96e",
   "metadata": {},
   "source": [
    "Now plot differences from the reference including the comparator genomes:"
   ]
  },
  {
   "cell_type": "code",
   "execution_count": null,
   "id": "a663b008-9831-488e-921f-bf45db9c80cd",
   "metadata": {
    "tags": []
   },
   "outputs": [],
   "source": [
    "# first make data frame to plot\n",
    "comparators = ['any_mutation'] + comparator_map.columns[2:].tolist()\n",
    "\n",
    "def format_mut(r):\n",
    "    return (f\"{r['reference']}{r['site']}{r['consensus']}\" + ' (' +\n",
    "            ', '.join(f\"{nt}={r[nt]}\" for nt in ['A', 'C', 'G', 'T'] if r[nt]) + ')'\n",
    "            )\n",
    "\n",
    "plot_df = (\n",
    "    diffs_from_ref\n",
    "    .assign(mutation=lambda x: x.apply(format_mut, axis=1),\n",
    "            sample=lambda x: pd.Categorical(x['sample'], samples, ordered=True),\n",
    "            any_mutation=pd.NA,\n",
    "            )\n",
    "    .melt(id_vars=['sample', 'aligner', 'site', 'consensus', 'mutation'],\n",
    "          value_vars=comparators,\n",
    "          var_name='towards',\n",
    "          value_name='comparator_nt')\n",
    "    .assign(keep=lambda x: (x['towards'] == 'any_mutation') | (x['consensus'] == x['comparator_nt']))\n",
    "    .query('keep')\n",
    "    .groupby(['sample', 'aligner', 'towards'])\n",
    "    .aggregate(n_mutations=pd.NamedAgg('site', 'count'),\n",
    "               mutations=pd.NamedAgg('mutation', lambda s: '; '.join(s)))\n",
    "    .reset_index()\n",
    "    .assign(mutations=lambda x: x['mutations'].fillna(''))\n",
    "    )\n",
    "assert len(plot_df) == len(samples) * diffs_from_ref['aligner'].nunique() * len(comparators)\n",
    "\n",
    "# make selectors\n",
    "comparator_selection = alt.selection_multi(\n",
    "        fields=['towards'],\n",
    "        bind='legend',\n",
    "        init=[{'towards': 'any_mutation'}]\n",
    "        )\n",
    "# make chart\n",
    "diffs_from_ref_chart = (\n",
    "    alt.Chart(plot_df)\n",
    "    .encode(x=alt.X('n_mutations:Q',\n",
    "                    title='number of mismatch mutations relative to reference',\n",
    "                    axis=alt.Axis(tickMinStep=1)\n",
    "                    ),\n",
    "            y='sample:N',\n",
    "            color=alt.condition(comparator_selection, 'towards:N', alt.value(None)),\n",
    "            shape='towards:N',\n",
    "            tooltip=['sample',\n",
    "                     'n_mutations',\n",
    "                     'mutations'\n",
    "                     ]\n",
    "            )\n",
    "    .mark_point(size=75,\n",
    "                filled=True)\n",
    "    .add_selection(aligner_selection,\n",
    "                   comparator_selection)\n",
    "    .transform_filter(aligner_selection)\n",
    "    )\n",
    "\n",
    "print(f\"Saving to {diffs_from_ref_chart_file}\")\n",
    "diffs_from_ref_chart.save(diffs_from_ref_chart_file)\n",
    "\n",
    "diffs_from_ref_chart"
   ]
  },
  {
   "cell_type": "code",
   "execution_count": null,
   "id": "bbf00720-5183-4986-8a1e-dbdeed6707b4",
   "metadata": {},
   "outputs": [],
   "source": []
  }
 ],
 "metadata": {
  "kernelspec": {
   "display_name": "Python 3",
   "language": "python",
   "name": "python3"
  },
  "language_info": {
   "codemirror_mode": {
    "name": "ipython",
    "version": 3
   },
   "file_extension": ".py",
   "mimetype": "text/x-python",
   "name": "python",
   "nbconvert_exporter": "python",
   "pygments_lexer": "ipython3",
   "version": "3.8.10"
  }
 },
 "nbformat": 4,
 "nbformat_minor": 5
}
