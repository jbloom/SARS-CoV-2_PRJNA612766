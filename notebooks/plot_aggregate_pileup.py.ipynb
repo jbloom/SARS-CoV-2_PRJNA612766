{
 "cells": [
  {
   "cell_type": "markdown",
   "id": "bb9f1acc-d267-45b3-a20f-2db78cfcc723",
   "metadata": {},
   "source": [
    "# Plot coverage at each site from pileups\n",
    "\n",
    "Import Python modules:"
   ]
  },
  {
   "cell_type": "code",
   "execution_count": null,
   "id": "a3f9e2ad-e8c1-4d6f-b9f2-2c9302c91a29",
   "metadata": {
    "tags": []
   },
   "outputs": [],
   "source": [
    "import altair as alt\n",
    "\n",
    "import altair_saver\n",
    "\n",
    "import pandas as pd\n",
    "\n",
    "_ = alt.data_transformers.disable_max_rows()"
   ]
  },
  {
   "cell_type": "markdown",
   "id": "9f7ac0ba-1cfa-46b6-b430-236dc9a34b1f",
   "metadata": {},
   "source": [
    "Get key variables from `Snakemake`:"
   ]
  },
  {
   "cell_type": "code",
   "execution_count": null,
   "id": "2e5b35e9-89c2-4c47-bbeb-58a4f89e6e97",
   "metadata": {
    "tags": []
   },
   "outputs": [],
   "source": [
    "pileup_files = snakemake.input.pileups\n",
    "chart_all_html = snakemake.output.chart_all_html\n",
    "chart_all_pdf = snakemake.output.chart_all_pdf\n",
    "chart_region_html = snakemake.output.chart_region_html\n",
    "chart_region_pdf = snakemake.output.chart_region_pdf\n",
    "output_csv = snakemake.output.csv\n",
    "aligners = snakemake.params.aligners\n",
    "samples = snakemake.params.samples\n",
    "patient_groups = snakemake.params.patient_groups\n",
    "ref_name = snakemake.params.ref_name\n",
    "region_of_interest = snakemake.params.region_of_interest\n",
    "consensus_min_coverage = snakemake.params.consensus_min_coverage\n",
    "\n",
    "assert len(pileup_files) == len(samples) == len(patient_groups)\n",
    "assert region_of_interest['start'] <= region_of_interest['end']"
   ]
  },
  {
   "cell_type": "markdown",
   "id": "e9dc57e7-e8ce-4561-a159-68a9d320203f",
   "metadata": {},
   "source": [
    "Read the data:"
   ]
  },
  {
   "cell_type": "code",
   "execution_count": null,
   "id": "a911e4b3-5a94-49fe-b653-d29631415d8b",
   "metadata": {
    "tags": []
   },
   "outputs": [],
   "source": [
    "nts = ['A', 'C', 'G', 'T']\n",
    "\n",
    "pileups = (pd.concat([pd.read_csv(f)\n",
    "                      .assign(sample=sample,\n",
    "                              patient_group=patient_group)\n",
    "                      for f, sample, patient_group in\n",
    "                      zip(pileup_files, samples, patient_groups)])\n",
    "           .query('aligner in @aligners')\n",
    "           .assign(depth=lambda x: x[nts].sum(axis=1))\n",
    "           .reset_index(drop=True)\n",
    "           )\n",
    "\n",
    "print(f\"Writing the pileup data to {output_csv}\")\n",
    "pileups.to_csv(output_csv, index=False)\n",
    "\n",
    "pileups"
   ]
  },
  {
   "cell_type": "markdown",
   "id": "69e82286-3634-4c74-8215-0ca1e36e6085",
   "metadata": {},
   "source": [
    "Get all sites, then drop zeros from pileup:"
   ]
  },
  {
   "cell_type": "code",
   "execution_count": null,
   "id": "97b1466f-79cc-4798-8345-2f3079c08ec1",
   "metadata": {
    "tags": []
   },
   "outputs": [],
   "source": [
    "sites = pileups['site'].unique().tolist()\n",
    "\n",
    "print(f\"Number of rows in `pileups` that have 0 depth:\")\n",
    "display(pileups\n",
    "        .assign(zero_depth=lambda x: x['depth'] == 0)\n",
    "        .groupby('zero_depth')\n",
    "        .aggregate(n_rows=pd.NamedAgg('site', 'count'))\n",
    "        )\n",
    "\n",
    "pileups_drop_zeros = (\n",
    "    pileups\n",
    "    .query('depth > 0')\n",
    "    )"
   ]
  },
  {
   "cell_type": "markdown",
   "id": "4859b5c7-b45b-47e4-8e22-891b0d4964d7",
   "metadata": {},
   "source": [
    "Make interactive pilup plot.\n",
    "First a function that creates the plot:"
   ]
  },
  {
   "cell_type": "code",
   "execution_count": null,
   "id": "08b0082f-191a-403a-b526-893469bef73d",
   "metadata": {
    "tags": []
   },
   "outputs": [],
   "source": [
    "def coverage_chart(just_region_of_interest,\n",
    "                   include_site_zoom_bar):\n",
    "    \n",
    "    # some manipulations to decrease size of data frame to shrink chart\n",
    "    if pileups_drop_zeros['aligner'].nunique() == 1:\n",
    "        df = pileups_drop_zeros.drop(columns='aligner')\n",
    "    else:\n",
    "        df = pileups_drop_zeros\n",
    "    site_df = pd.DataFrame({'site': sites})\n",
    "    \n",
    "    if just_region_of_interest:\n",
    "        start, end = region_of_interest['start'], region_of_interest['end']\n",
    "        df = df.query('site >= @start').query('site <= @end')\n",
    "        site_df = site_df.query('site >= @start').query('site <= @end')\n",
    "    else:\n",
    "        start, end = sites[0], sites[-1]\n",
    "\n",
    "    # set up selectors\n",
    "    descriptor_names = {'aligner': 'read',\n",
    "    # comment out sample as we facet rather than select it\n",
    "    #                    'sample': 'viral',\n",
    "                    }\n",
    "    selections = {}\n",
    "    for descriptor, descriptor_name in descriptor_names.items():\n",
    "        options = pileups_drop_zeros[descriptor].unique().tolist()\n",
    "        if len(options) == 1:\n",
    "            continue  # only make selector if more than one option\n",
    "        selections[descriptor] = alt.selection_single(\n",
    "            name=descriptor_names[descriptor],\n",
    "            fields=[descriptor],\n",
    "            bind=alt.binding_select(options=options),\n",
    "            init={descriptor: options[0]}\n",
    "            )\n",
    "    \n",
    "    ncolumns = 5\n",
    "    facet_width = 130\n",
    "\n",
    "    # make site zoom bar\n",
    "    zoom_brush = alt.selection_interval(\n",
    "                encodings=['x'],\n",
    "                mark=alt.BrushConfig(stroke='black', strokeWidth=2),\n",
    "                )\n",
    "    zoom_bar = (\n",
    "        alt.Chart(site_df)\n",
    "        .mark_rect(color='lightgray')\n",
    "        .encode(x=alt.X('site:Q',\n",
    "                        axis=alt.Axis(grid=False,\n",
    "                                      labelAngle=-90,\n",
    "                                      ),\n",
    "                        scale=alt.Scale(domain=[start, end],\n",
    "                                        nice=False,\n",
    "                                        padding=0,\n",
    "                                        ),\n",
    "                        title='site zoom bar')\n",
    "                )\n",
    "        .add_selection(zoom_brush)\n",
    "        .properties(width=ncolumns * facet_width,\n",
    "                    height=15,\n",
    "                    )\n",
    "        )\n",
    "\n",
    "    # make pileup chart\n",
    "    if include_site_zoom_bar:\n",
    "        x_domain = zoom_brush\n",
    "    else:\n",
    "        x_domain = [start, end]\n",
    "    pileup_chart = (\n",
    "        alt.Chart()\n",
    "        .encode(x=alt.X('site:Q',\n",
    "                        axis=alt.Axis(grid=False,\n",
    "                                      labelAngle=-90,\n",
    "                                      tickCount=5,\n",
    "                                      ),\n",
    "                        scale=alt.Scale(domain=x_domain,\n",
    "                                        nice=False,\n",
    "                                        padding=5 * int(not include_site_zoom_bar)\n",
    "                                        ),\n",
    "                        ),\n",
    "                y=alt.Y('depth:Q',\n",
    "                        title='depth',\n",
    "                        axis=alt.Axis(grid=False,\n",
    "                                      tickCount=10,\n",
    "                                      ),\n",
    "                        scale=alt.Scale(type='symlog',\n",
    "                                        constant=2,  # increase slope of symlog scale near zero\n",
    "                                        ),\n",
    "                        ),\n",
    "                color=alt.Color('patient_group:N',\n",
    "                                title='patient group',\n",
    "                                legend=alt.Legend(orient='right'),\n",
    "                                scale=alt.Scale(range=['#E69F00', '#993e01']),\n",
    "                                ),\n",
    "                tooltip=['site:Q',\n",
    "                         alt.Tooltip('reference:N',\n",
    "                                     title=f\"{ref_name} nt\",\n",
    "                                     ),\n",
    "                         'depth:Q',\n",
    "                         *[f\"{nt}:N\" for nt in nts],\n",
    "                         ],\n",
    "                )\n",
    "        .mark_bar()\n",
    "        .add_selection(zoom_brush)\n",
    "        .properties(height=60,\n",
    "                    width=facet_width,\n",
    "                    )\n",
    "        )\n",
    "\n",
    "    # add any selections\n",
    "    for selection in selections.values():\n",
    "        pileup_chart = (pileup_chart\n",
    "                        .add_selection(selection)\n",
    "                        .transform_filter(selection)\n",
    "                        )\n",
    "        \n",
    "    # horizontal line at coverage cutoff\n",
    "    horiz_line = (\n",
    "        alt.Chart(pd.DataFrame({'cutoff': [consensus_min_coverage]}))\n",
    "        .mark_rule(color='#999999',\n",
    "                   strokeWidth=1,\n",
    "                   strokeDash=[3, 1],\n",
    "                   )\n",
    "        .encode(y='cutoff:Q')\n",
    "        )\n",
    "\n",
    "    chart = (\n",
    "        alt.layer(pileup_chart, horiz_line, data=df)\n",
    "        .facet(facet=alt.Facet('sample:N',\n",
    "                                title=None,\n",
    "                                header=alt.Header(labelFontStyle='bold',\n",
    "                                                  labelPadding=1,\n",
    "                                                  ),\n",
    "                                sort=samples,\n",
    "                                ),\n",
    "               columns=ncolumns,\n",
    "               spacing=5,\n",
    "               )\n",
    "        )\n",
    "    if include_site_zoom_bar:\n",
    "        chart = chart & zoom_bar\n",
    "    coverage_chart = (\n",
    "        chart\n",
    "        .configure_view(strokeWidth=1,\n",
    "                        stroke='black')\n",
    "        .configure_axis(domain=False)\n",
    "        )\n",
    "\n",
    "    return coverage_chart"
   ]
  },
  {
   "cell_type": "markdown",
   "id": "498273d3-c9aa-4539-9888-55a80532b343",
   "metadata": {},
   "source": [
    "Make interactive plot just of region of interest:"
   ]
  },
  {
   "cell_type": "code",
   "execution_count": null,
   "id": "6ede2dc3-ecf4-452f-970a-b18c78caee4a",
   "metadata": {
    "tags": []
   },
   "outputs": [],
   "source": [
    "chart = coverage_chart(just_region_of_interest=True,\n",
    "                       include_site_zoom_bar=True)\n",
    "\n",
    "print(f\"Saving to {chart_region_html}\")\n",
    "chart.save(chart_region_html)\n",
    "\n",
    "chart"
   ]
  },
  {
   "cell_type": "markdown",
   "id": "6a266671-70e7-4a06-9e12-a38cc9664e2a",
   "metadata": {},
   "source": [
    "Make interactive plot of entire genome:"
   ]
  },
  {
   "cell_type": "code",
   "execution_count": null,
   "id": "4f070e31-ab7d-405f-8298-cabb4e11408f",
   "metadata": {},
   "outputs": [],
   "source": [
    "chart = coverage_chart(just_region_of_interest=False,\n",
    "                       include_site_zoom_bar=True)\n",
    "\n",
    "print(f\"Saving to {chart_all_html}\")\n",
    "chart.save(chart_all_html)\n",
    "\n",
    "chart"
   ]
  },
  {
   "cell_type": "markdown",
   "id": "85f189e5-ccb2-41cd-8e4e-cfe72c93f0de",
   "metadata": {},
   "source": [
    "Make static plot of region of interest:"
   ]
  },
  {
   "cell_type": "code",
   "execution_count": null,
   "id": "89702d43-6c75-4895-9962-2d6fc8409328",
   "metadata": {
    "tags": []
   },
   "outputs": [],
   "source": [
    "chart = coverage_chart(just_region_of_interest=True,\n",
    "                       include_site_zoom_bar=False)\n",
    "\n",
    "print(f\"Saving to {chart_region_pdf}\")\n",
    "altair_saver.save(chart, chart_region_pdf)"
   ]
  },
  {
   "cell_type": "markdown",
   "id": "58cc73d0-1779-4c1f-8644-7f051d458b79",
   "metadata": {},
   "source": [
    "Make static plot of whole genome:"
   ]
  },
  {
   "cell_type": "code",
   "execution_count": null,
   "id": "23e907d0-c84a-4236-834c-cc137653bc52",
   "metadata": {},
   "outputs": [],
   "source": [
    "chart = coverage_chart(just_region_of_interest=False,\n",
    "                       include_site_zoom_bar=False)\n",
    "\n",
    "print(f\"Saving to {chart_all_pdf}\")\n",
    "altair_saver.save(chart, chart_all_pdf)"
   ]
  }
 ],
 "metadata": {
  "kernelspec": {
   "display_name": "Python 3",
   "language": "python",
   "name": "python3"
  },
  "language_info": {
   "codemirror_mode": {
    "name": "ipython",
    "version": 3
   },
   "file_extension": ".py",
   "mimetype": "text/x-python",
   "name": "python",
   "nbconvert_exporter": "python",
   "pygments_lexer": "ipython3",
   "version": "3.8.10"
  }
 },
 "nbformat": 4,
 "nbformat_minor": 5
}
