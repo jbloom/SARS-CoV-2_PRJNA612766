{
 "cells": [
  {
   "cell_type": "markdown",
   "id": "98e62acc-32ab-4421-810b-84e02c0f8697",
   "metadata": {},
   "source": [
    "# Annotate set of GISAID mutations by comparator genomes\n",
    "\n",
    "Get variables from `snakemake`:"
   ]
  },
  {
   "cell_type": "code",
   "execution_count": null,
   "id": "4bd67dcd-fd8e-4e3d-a1d2-6c57ab53c07e",
   "metadata": {
    "tags": []
   },
   "outputs": [],
   "source": [
    "comparator_map_file = snakemake.input.comparator_map\n",
    "genome_fasta_file = snakemake.input.genome_fasta\n",
    "gisaid_metadata_file = snakemake.input.gisaid_metadata\n",
    "gisaid_muts_file = snakemake.input.gisaid_muts\n",
    "annotated_muts_file = snakemake.output.annotated_muts\n",
    "add_mutations = snakemake.params.add_mutations"
   ]
  },
  {
   "cell_type": "markdown",
   "id": "a4700232-2e63-4d1b-8ebd-c86e27f5e1a4",
   "metadata": {},
   "source": [
    "Import Python modules:"
   ]
  },
  {
   "cell_type": "code",
   "execution_count": null,
   "id": "efa59d57-b9a7-4d68-aa96-c35f60a368cd",
   "metadata": {
    "tags": []
   },
   "outputs": [],
   "source": [
    "import Bio.SeqIO\n",
    "\n",
    "import pandas as pd"
   ]
  },
  {
   "cell_type": "markdown",
   "id": "09d4eee3-0a07-4a23-954b-2e6903894b86",
   "metadata": {},
   "source": [
    "Read comparator map:"
   ]
  },
  {
   "cell_type": "code",
   "execution_count": null,
   "id": "87cc9c3e-abab-451b-8b93-757ad1d5f9a4",
   "metadata": {
    "tags": []
   },
   "outputs": [],
   "source": [
    "comparator_map = pd.read_csv(comparator_map_file)\n",
    "\n",
    "comparators = comparator_map.columns.tolist()[2:]\n",
    "print(f\"Read comparator identities for: {comparators}\")\n",
    "\n",
    "comparator_map"
   ]
  },
  {
   "cell_type": "markdown",
   "id": "1b1b7cbc-c7ec-4924-ac97-258fff1d4a61",
   "metadata": {},
   "source": [
    "Get set of mutations for each comparator getting **only** mismatch mutations to valid nucleotides:"
   ]
  },
  {
   "cell_type": "code",
   "execution_count": null,
   "id": "00625bcd-3bf5-4ec3-9d5f-9c59d41643b5",
   "metadata": {
    "tags": []
   },
   "outputs": [],
   "source": [
    "comparator_muts = {}\n",
    "valid_nts = ['A', 'C', 'G', 'T']\n",
    "for comparator in comparators:\n",
    "    comparator_muts[comparator] = set(\n",
    "        comparator_map\n",
    "        .assign(mutated=lambda x: x['reference'] != x[comparator],\n",
    "                mutation=lambda x: x['reference'] + x['site'].astype(str) + x[comparator])\n",
    "        .query('mutated')\n",
    "        .query('reference in @valid_nts')\n",
    "        .query(f\"{comparator} in @valid_nts\")\n",
    "        ['mutation']\n",
    "        )\n",
    "    print(f\"{comparator} has {len(comparator_muts[comparator])} mutations\")"
   ]
  },
  {
   "cell_type": "markdown",
   "id": "d0f7f9ee-cc15-48ea-8ef8-74100c21b72d",
   "metadata": {},
   "source": [
    "Read GISAID mutations, get rid of ones that are indicated to be removed from reference (**this is equivalent to changing the reference!!!**), and annotate which ones are in each comparator:"
   ]
  },
  {
   "cell_type": "code",
   "execution_count": null,
   "id": "80f3f2e2-594f-442f-bf6d-8049dc2afab1",
   "metadata": {
    "tags": []
   },
   "outputs": [],
   "source": [
    "add_mutations_dict = {int(m[1: -1]): (m[0], m[-1]) for m in add_mutations}\n",
    "\n",
    "def add_mutations_func(mut_list):\n",
    "    \"\"\"Re-call relative to added mutations in reference.\"\"\"\n",
    "    muts = []\n",
    "    sites_to_add_muts = set(add_mutations_dict)\n",
    "    for m in mut_list:\n",
    "        if not m:\n",
    "            continue\n",
    "        r = int(m[1: -1])\n",
    "        if r in add_mutations_dict:\n",
    "            sites_to_add_muts.remove(r)\n",
    "            ref_wt = add_mutations_dict[r][-1]\n",
    "            wt = m[0]\n",
    "            assert wt == add_mutations_dict[r][0]\n",
    "            mut = m[-1]\n",
    "            if mut == ref_wt:\n",
    "                continue\n",
    "            else:\n",
    "                muts.append(f\"{ref_wt}{r}{mut}\")\n",
    "        else:\n",
    "            muts.append(m)\n",
    "    for r in sorted(sites_to_add_muts):\n",
    "        tup = add_mutations_dict[r] \n",
    "        muts.append(f\"{tup[1]}{r}{tup[0]}\")\n",
    "    return muts\n",
    "\n",
    "gisaid_muts = (\n",
    "    pd.read_csv(gisaid_muts_file,\n",
    "                sep='\\t',\n",
    "                na_filter=False,\n",
    "                )\n",
    "    .rename(columns={'Unnamed: 0': 'strain',\n",
    "                     'nucleotide': 'mutations'})\n",
    "    [['strain', 'mutations']]\n",
    "    .query('strain != \"Reference\"')\n",
    "    .assign(mutations=lambda x: x['mutations'].str.split(',').map(add_mutations_func),\n",
    "            n_mutations=lambda x: x['mutations'].map(len))\n",
    "    )\n",
    "\n",
    "for comparator, muts in comparator_muts.items():\n",
    "    gisaid_muts[f\"{comparator}_mutations\"] = (gisaid_muts\n",
    "                                              ['mutations']\n",
    "                                              .map(lambda x: [xi for xi in x if xi in muts])\n",
    "                                              )\n",
    "    gisaid_muts[f\"{comparator}_n_mutations\"] = (gisaid_muts\n",
    "                                                [f\"{comparator}_mutations\"]\n",
    "                                                .map(len)\n",
    "                                                )\n",
    "    gisaid_muts[f\"{comparator}_mutations\"] = (gisaid_muts\n",
    "                                              [f\"{comparator}_mutations\"]\n",
    "                                              .map(lambda x: ','.join(x))\n",
    "                                              )\n",
    "gisaid_muts['mutations'] = gisaid_muts['mutations'].map(lambda x: ','.join(x))\n",
    "\n",
    "gisaid_muts"
   ]
  },
  {
   "cell_type": "markdown",
   "id": "17df555a-6cf2-4881-8eec-a39eaf309a94",
   "metadata": {},
   "source": [
    "Read GISAID metadata:"
   ]
  },
  {
   "cell_type": "code",
   "execution_count": null,
   "id": "959ab3d1-e89e-45ed-be1c-939908cfffef",
   "metadata": {
    "tags": []
   },
   "outputs": [],
   "source": [
    "gisaid_metadata = pd.read_csv(gisaid_metadata_file,\n",
    "                              sep='\\t',\n",
    "                              low_memory=False,\n",
    "                              )\n",
    "\n",
    "gisaid_metadata"
   ]
  },
  {
   "cell_type": "markdown",
   "id": "d1a2d0c3-7674-4dbe-9e11-e28d99db40c4",
   "metadata": {},
   "source": [
    "Add metadata to mutations:"
   ]
  },
  {
   "cell_type": "code",
   "execution_count": null,
   "id": "1de541ab-27a3-4033-865f-984c43985080",
   "metadata": {
    "tags": []
   },
   "outputs": [],
   "source": [
    "gisaid_merged = gisaid_muts.merge(gisaid_metadata,\n",
    "                                  on='strain',\n",
    "                                  how='inner',\n",
    "                                  validate='one_to_one',\n",
    "                                  )\n",
    "\n",
    "gisaid_merged"
   ]
  },
  {
   "cell_type": "markdown",
   "id": "18440887-8293-4685-9477-64b0f406e8d9",
   "metadata": {},
   "source": [
    "Do some filtering to get only human sequences:"
   ]
  },
  {
   "cell_type": "code",
   "execution_count": null,
   "id": "d4adf7d7-fffb-4d37-8c86-37db8a4e5f54",
   "metadata": {
    "tags": []
   },
   "outputs": [],
   "source": [
    "gisaid_merged = (\n",
    "    gisaid_merged\n",
    "    .query('host == \"Human\"')\n",
    "    )\n",
    "\n",
    "gisaid_merged"
   ]
  },
  {
   "cell_type": "markdown",
   "id": "7e088994-13f3-4d80-96c0-2f8d01fc8b56",
   "metadata": {},
   "source": [
    "Do a final sanity check to make sure the mutations all match the reference wildtype:"
   ]
  },
  {
   "cell_type": "code",
   "execution_count": null,
   "id": "f347bc1c-ed3e-4ab8-b7a4-e7714945383c",
   "metadata": {
    "tags": []
   },
   "outputs": [],
   "source": [
    "ref_genome = str(Bio.SeqIO.read(genome_fasta_file, 'fasta').seq)\n",
    "\n",
    "site_to_ref = {r: nt for r, nt in enumerate(ref_genome, start=1)}\n",
    "\n",
    "def check_func(mut_list):\n",
    "    for m in mut_list:\n",
    "        if m:\n",
    "            wt = m[0]\n",
    "            site = int(m[1: -1])\n",
    "            if site_to_ref[site] != wt:\n",
    "                raise ValueError(f\"mismatch for {m}\")\n",
    "    return True\n",
    "\n",
    "_ = gisaid_merged['mutations'].str.split(',').map(check_func)"
   ]
  },
  {
   "cell_type": "markdown",
   "id": "ce13ea0c-ca3d-4ad0-bcf2-dd9cd2e4274a",
   "metadata": {},
   "source": [
    "Write to file:"
   ]
  },
  {
   "cell_type": "code",
   "execution_count": null,
   "id": "09e896e3-5c50-47fa-bc5a-bf219239f5b3",
   "metadata": {
    "tags": []
   },
   "outputs": [],
   "source": [
    "print(f\"Writing to {annotated_muts_file}\")\n",
    "\n",
    "gisaid_merged.to_csv(annotated_muts_file,\n",
    "                     index=False)"
   ]
  }
 ],
 "metadata": {
  "kernelspec": {
   "display_name": "Python 3",
   "language": "python",
   "name": "python3"
  },
  "language_info": {
   "codemirror_mode": {
    "name": "ipython",
    "version": 3
   },
   "file_extension": ".py",
   "mimetype": "text/x-python",
   "name": "python",
   "nbconvert_exporter": "python",
   "pygments_lexer": "ipython3",
   "version": "3.8.10"
  }
 },
 "nbformat": 4,
 "nbformat_minor": 5
}
