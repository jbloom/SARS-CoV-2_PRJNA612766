{
 "cells": [
  {
   "cell_type": "markdown",
   "id": "ee394075-2b86-49b4-ba67-42475549b0bf",
   "metadata": {},
   "source": [
    "# Visualize phylogenetic trees\n",
    "\n",
    "Import Python packages:"
   ]
  },
  {
   "cell_type": "code",
   "execution_count": null,
   "id": "f41d2604-5caa-4451-92e5-b71271fdceff",
   "metadata": {
    "tags": []
   },
   "outputs": [],
   "source": [
    "import collections\n",
    "import itertools\n",
    "import math\n",
    "import os\n",
    "\n",
    "import Bio.SeqIO\n",
    "\n",
    "import pandas as pd\n",
    "\n",
    "import ete3"
   ]
  },
  {
   "cell_type": "markdown",
   "id": "62c8e506-913d-442b-a355-a691c0850b78",
   "metadata": {},
   "source": [
    "Get variables from `snakemake`:"
   ]
  },
  {
   "cell_type": "code",
   "execution_count": null,
   "id": "318e5971-060c-4516-a998-b076e5e54d10",
   "metadata": {
    "tags": []
   },
   "outputs": [],
   "source": [
    "\n",
    "######## snakemake preamble start (automatically inserted, do not edit) ########\n",
    "import sys; sys.path.extend(['/fh/fast/bloom_j/software/miniconda3/envs/SARS-CoV-2_PRJNA612766/lib/python3.8/site-packages', '/home/jbloom/SARS-CoV-2_PRJNA612766/notebooks']); import pickle; snakemake = pickle.loads(b\"\\x80\\x04\\x95\\x0e+\\x00\\x00\\x00\\x00\\x00\\x00\\x8c\\x10snakemake.script\\x94\\x8c\\tSnakemake\\x94\\x93\\x94)\\x81\\x94}\\x94(\\x8c\\x05input\\x94\\x8c\\x0csnakemake.io\\x94\\x8c\\nInputFiles\\x94\\x93\\x94)\\x81\\x94(\\x8c?results/phylogenetics/all_hCoV-19%Hangzhou%ZJU-08%2020.treefile\\x94\\x8cAresults/phylogenetics/all_hCoV-19%Shenzhen%SZTH-002%2020.treefile\\x94\\x8c@results/phylogenetics/all_hCoV-19%Shandong%LY008-2%2020.treefile\\x94\\x8c<results/phylogenetics/all_hCoV-19%Hangzhou%ZJU-08%2020.state\\x94\\x8c>results/phylogenetics/all_hCoV-19%Shenzhen%SZTH-002%2020.state\\x94\\x8c=results/phylogenetics/all_hCoV-19%Shandong%LY008-2%2020.state\\x94\\x8c&results/phylogenetics/all_alignment.fa\\x94\\x8c'results/phylogenetics/all_alignment.csv\\x94\\x8c*results/phylogenetics/region_alignment.csv\\x94\\x8c2results/genome_to_comparator/site_identity_map.csv\\x94e}\\x94(\\x8c\\x06_names\\x94}\\x94(\\x8c\\x05trees\\x94K\\x00K\\x03\\x86\\x94\\x8c\\x06states\\x94K\\x03K\\x06\\x86\\x94\\x8c\\talignment\\x94K\\x06N\\x86\\x94\\x8c\\x07all_csv\\x94K\\x07N\\x86\\x94\\x8c\\nregion_csv\\x94K\\x08N\\x86\\x94\\x8c\\x0ecomparator_map\\x94K\\tN\\x86\\x94u\\x8c\\x12_allowed_overrides\\x94]\\x94(\\x8c\\x05index\\x94\\x8c\\x04sort\\x94eh%\\x8c\\tfunctools\\x94\\x8c\\x07partial\\x94\\x93\\x94h\\x06\\x8c\\x19Namedlist._used_attribute\\x94\\x93\\x94\\x85\\x94R\\x94(h+)}\\x94\\x8c\\x05_name\\x94h%sNt\\x94bh&h)h+\\x85\\x94R\\x94(h+)}\\x94h/h&sNt\\x94bh\\x17h\\x06\\x8c\\tNamedlist\\x94\\x93\\x94)\\x81\\x94(h\\nh\\x0bh\\x0ce}\\x94(h\\x15}\\x94h#]\\x94(h%h&eh%h)h+\\x85\\x94R\\x94(h+)}\\x94h/h%sNt\\x94bh&h)h+\\x85\\x94R\\x94(h+)}\\x94h/h&sNt\\x94bubh\\x19h6)\\x81\\x94(h\\rh\\x0eh\\x0fe}\\x94(h\\x15}\\x94h#]\\x94(h%h&eh%h)h+\\x85\\x94R\\x94(h+)}\\x94h/h%sNt\\x94bh&h)h+\\x85\\x94R\\x94(h+)}\\x94h/h&sNt\\x94bubh\\x1bh\\x10h\\x1dh\\x11h\\x1fh\\x12h!h\\x13ub\\x8c\\x06output\\x94h\\x06\\x8c\\x0bOutputFiles\\x94\\x93\\x94)\\x81\\x94\\x8c\\x0btree_images\\x94a}\\x94(h\\x15}\\x94h#]\\x94(h%h&eh%h)h+\\x85\\x94R\\x94(h+)}\\x94h/h%sNt\\x94bh&h)h+\\x85\\x94R\\x94(h+)}\\x94h/h&sNt\\x94bub\\x8c\\x06params\\x94h\\x06\\x8c\\x06Params\\x94\\x93\\x94)\\x81\\x94(M\\t\\x01]\\x94(\\x8c2results/phylogenetics/hCoV-19/Hangzhou/ZJU-08/2020\\x94\\x8c4results/phylogenetics/hCoV-19/Shenzhen/SZTH-002/2020\\x94\\x8c3results/phylogenetics/hCoV-19/Shandong/LY008-2/2020\\x94ee}\\x94(h\\x15}\\x94(\\x8c\\x0bsite_offset\\x94K\\x00N\\x86\\x94\\x8c\\x0bprogenitors\\x94K\\x01N\\x86\\x94uh#]\\x94(h%h&eh%h)h+\\x85\\x94R\\x94(h+)}\\x94h/h%sNt\\x94bh&h)h+\\x85\\x94R\\x94(h+)}\\x94h/h&sNt\\x94bhiM\\t\\x01hkhcub\\x8c\\twildcards\\x94h\\x06\\x8c\\tWildcards\\x94\\x93\\x94)\\x81\\x94}\\x94(h\\x15}\\x94h#]\\x94(h%h&eh%h)h+\\x85\\x94R\\x94(h+)}\\x94h/h%sNt\\x94bh&h)h+\\x85\\x94R\\x94(h+)}\\x94h/h&sNt\\x94bub\\x8c\\x07threads\\x94K\\x01\\x8c\\tresources\\x94h\\x06\\x8c\\tResources\\x94\\x93\\x94)\\x81\\x94(K\\x01K\\x01e}\\x94(h\\x15}\\x94(\\x8c\\x06_cores\\x94K\\x00N\\x86\\x94\\x8c\\x06_nodes\\x94K\\x01N\\x86\\x94uh#]\\x94(h%h&eh%h)h+\\x85\\x94R\\x94(h+)}\\x94h/h%sNt\\x94bh&h)h+\\x85\\x94R\\x94(h+)}\\x94h/h&sNt\\x94bh\\x8cK\\x01h\\x8eK\\x01ub\\x8c\\x03log\\x94h\\x06\\x8c\\x03Log\\x94\\x93\\x94)\\x81\\x94\\x8c,results/logs/notebooks/visualize_trees.ipynb\\x94a}\\x94(h\\x15}\\x94\\x8c\\x08notebook\\x94K\\x00N\\x86\\x94sh#]\\x94(h%h&eh%h)h+\\x85\\x94R\\x94(h+)}\\x94h/h%sNt\\x94bh&h)h+\\x85\\x94R\\x94(h+)}\\x94h/h&sNt\\x94bh\\xa0h\\x9dub\\x8c\\x06config\\x94}\\x94(\\x8c\\x08max_cpus\\x94K\\x04\\x8c\\x0bscratch_dir\\x94\\x8c\\x11results/_scratch/\\x94\\x8c\\nref_genome\\x94}\\x94(\\x8c\\x05fasta\\x94\\x8c}ftp://ftp.ncbi.nlm.nih.gov/genomes/all/GCF/009/858/895/GCF_009858895.2_ASM985889v3/GCF_009858895.2_ASM985889v3_genomic.fna.gz\\x94\\x8c\\x03gff\\x94\\x8c}ftp://ftp.ncbi.nlm.nih.gov/genomes/all/GCF/009/858/895/GCF_009858895.2_ASM985889v3/GCF_009858895.2_ASM985889v3_genomic.gff.gz\\x94\\x8c\\x04name\\x94\\x8c\\x07proCoV2\\x94\\x8c\\radd_mutations\\x94]\\x94(\\x8c\\x06C8782T\\x94\\x8c\\x07C18060T\\x94\\x8c\\x07T28144C\\x94eu\\x8c\\x12comparator_genomes\\x94}\\x94(\\x8c\\x06RaTG13\\x94}\\x94\\x8c\\x06gisaid\\x94\\x8c\\x0eEPI_ISL_402131\\x94s\\x8c\\x06RpYN06\\x94}\\x94\\x8c\\x06gisaid\\x94\\x8c\\x0fEPI_ISL_1699446\\x94s\\x8c\\x06RmYN02\\x94}\\x94\\x8c\\x06gisaid\\x94\\x8c\\x0eEPI_ISL_412977\\x94su\\x8c\\x16gisaid_comparator_dirs\\x94]\\x94\\x8c\\x1edata/comparator_genomes_gisaid\\x94a\\x8c\\nearly_seqs\\x94}\\x94\\x8c\\x06gisaid\\x94}\\x94\\x8c\\x16gisaid_through_Feb2020\\x94\\x8c&data/gisaid_sequences_through_Feb2020/\\x94ss\\x8c\\x16early_seq_header_props\\x94]\\x94(\\x8c\\x06strain\\x94\\x8c\\x0egisaid_epi_isl\\x94\\x8c\\x04date\\x94\\x8c\\x11genbank_accession\\x94\\x8c\\x07country\\x94\\x8c\\x08location\\x94\\x8c\\x03age\\x94\\x8c\\x03sex\\x94e\\x8c\\x08aligners\\x94]\\x94\\x8c\\x08minimap2\\x94a\\x8c\\x04minq\\x94K\\x14\\x8c\\x0fmin_read_length\\x94K\\x14\\x8c\\x16consensus_min_coverage\\x94K\\x03\\x8c\\x12consensus_min_frac\\x94G?\\xe9\\x99\\x99\\x99\\x99\\x99\\x9a\\x8c\\x12region_of_interest\\x94}\\x94(\\x8c\\x05start\\x94MBT\\x8c\\x03end\\x94Mnsu\\x8c\\x16who_china_report_cases\\x94\\x8c(data/WHO_China_Report_Dec2019_cases.yaml\\x94\\x8c\\x1awho_china_report_last_date\\x94\\x8c\\x08datetime\\x94\\x8c\\x04date\\x94\\x93\\x94C\\x04\\x07\\xe4\\x01\\x02\\x94\\x85\\x94R\\x94\\x8c\\x15early_seqs_to_exclude\\x94\\x8c\\x19data/seqs_to_exclude.yaml\\x94\\x8c\\x1dearly_seqs_ignore_muts_before\\x94M\\n\\x01\\x8c\\x1cearly_seqs_ignore_muts_after\\x94M\\xeas\\x8c\\x16early_seqs_filter_runs\\x94}\\x94(\\x8c\\x06n_muts\\x94K\\x04\\x8c\\x04span\\x94K\\nu\\x8c\\x17early_seqs_min_coverage\\x94G?\\xec\\xcc\\xcc\\xcc\\xcc\\xcc\\xcd\\x8c\\x13early_seqs_max_subs\\x94K\\x0f\\x8c\\x18early_seqs_max_ambiguous\\x94M\\x88\\x13\\x8c\\x13early_seqs_max_date\\x94h\\xeeC\\x04\\x07\\xe4\\x02\\x1c\\x94\\x85\\x94R\\x94\\x8c\\x11min_frac_coverage\\x94G?\\xeeffffff\\x8c\\x0fphylo_last_date\\x94h\\xeeC\\x04\\x07\\xe4\\x01\\x1f\\x94\\x85\\x94R\\x94\\x8c\\x15phylo_min_frac_called\\x94G?\\xeeffffff\\x8c\\x14phylo_muts_to_ignore\\x94]\\x94(\\x8c\\x06G3564T\\x94\\x8c\\x06G8790T\\x94\\x8c\\x07G24933T\\x94\\x8c\\x06G2198A\\x94\\x8c\\x06G3145T\\x94\\x8c\\x06A3778G\\x94\\x8c\\x06C6255T\\x94\\x8c\\x06A4050C\\x94\\x8c\\x06T8022G\\x94\\x8c\\x07T13402G\\x94\\x8c\\x07A13947T\\x94\\x8c\\x07A24389C\\x94\\x8c\\x07G24390C\\x94\\x8c\\x06G1149T\\x94\\x8c\\x07C22802G\\x94\\x8c\\x05T153G\\x94e\\x8c\\x18phylo_collapse_rare_muts\\x94K\\x01\\x8c\\x1aphylo_filter_rare_variants\\x94K\\x01\\x8c\\x14samples_fasterq_dump\\x94}\\x94\\x8c\\x0csamples_wget\\x94}\\x94(\\x8c\\x02A1\\x94}\\x94(\\x8c\\naccessions\\x94]\\x94(\\x8c\\x0bSRR11313282\\x94\\x8c\\x0bSRR11313334\\x94e\\x8c\\x0ccollected_by\\x94\\x8c#Renmin Hospital of Wuhan University\\x94\\x8c\\rpatient_group\\x94\\x8c\\x10early outpatient\\x94u\\x8c\\x02A2\\x94}\\x94(\\x8c\\naccessions\\x94]\\x94(\\x8c\\x0bSRR11313271\\x94\\x8c\\x0bSRR11313461\\x94e\\x8c\\x0ccollected_by\\x94\\x8c#Renmin Hospital of Wuhan University\\x94\\x8c\\rpatient_group\\x94\\x8c\\x10early outpatient\\x94u\\x8c\\x02A4\\x94}\\x94(\\x8c\\naccessions\\x94]\\x94(\\x8c\\x0bSRR11313417\\x94\\x8c\\x0bSRR11313428\\x94e\\x8c\\x0ccollected_by\\x94\\x8c#Renmin Hospital of Wuhan University\\x94\\x8c\\rpatient_group\\x94\\x8c\\x10early outpatient\\x94u\\x8c\\x02A6\\x94}\\x94(\\x8c\\naccessions\\x94]\\x94\\x8c\\x0bSRR11313479\\x94a\\x8c\\x0ccollected_by\\x94\\x8c#Renmin Hospital of Wuhan University\\x94\\x8c\\rpatient_group\\x94\\x8c\\x10early outpatient\\x94u\\x8c\\x02A9\\x94}\\x94(\\x8c\\naccessions\\x94]\\x94(\\x8c\\x0bSRR11313345\\x94\\x8c\\x0bSRR11313356\\x94e\\x8c\\x0ccollected_by\\x94\\x8c#Renmin Hospital of Wuhan University\\x94\\x8c\\rpatient_group\\x94\\x8c\\x10early outpatient\\x94u\\x8c\\x03A11\\x94}\\x94(\\x8c\\naccessions\\x94]\\x94(\\x8c\\x0bSRR11313455\\x94\\x8c\\x0bSRR11313456\\x94e\\x8c\\x0ccollected_by\\x94\\x8c#Renmin Hospital of Wuhan University\\x94\\x8c\\rpatient_group\\x94\\x8c\\x10early outpatient\\x94u\\x8c\\x03A12\\x94}\\x94(\\x8c\\naccessions\\x94]\\x94(\\x8c\\x0bSRR11313473\\x94\\x8c\\x0bSRR11313474\\x94e\\x8c\\x0ccollected_by\\x94\\x8c#Renmin Hospital of Wuhan University\\x94\\x8c\\rpatient_group\\x94\\x8c\\x10early outpatient\\x94u\\x8c\\x02B1\\x94}\\x94(\\x8c\\naccessions\\x94]\\x94(\\x8c\\x0bSRR11313453\\x94\\x8c\\x0bSRR11313454\\x94e\\x8c\\x0ccollected_by\\x94\\x8c#Renmin Hospital of Wuhan University\\x94\\x8c\\rpatient_group\\x94\\x8c\\x10early outpatient\\x94u\\x8c\\x02B2\\x94}\\x94(\\x8c\\naccessions\\x94]\\x94(\\x8c\\x0bSRR11313451\\x94\\x8c\\x0bSRR11313452\\x94e\\x8c\\x0ccollected_by\\x94\\x8c#Renmin Hospital of Wuhan University\\x94\\x8c\\rpatient_group\\x94\\x8c\\x10early outpatient\\x94u\\x8c\\x02B3\\x94}\\x94(\\x8c\\naccessions\\x94]\\x94(\\x8c\\x0bSRR11313448\\x94\\x8c\\x0bSRR11313449\\x94e\\x8c\\x0ccollected_by\\x94\\x8c#Renmin Hospital of Wuhan University\\x94\\x8c\\rpatient_group\\x94\\x8c\\x10early outpatient\\x94u\\x8c\\x02B4\\x94}\\x94(\\x8c\\naccessions\\x94]\\x94(\\x8c\\x0bSRR11313322\\x94\\x8c\\x0bSRR11313333\\x94e\\x8c\\x0ccollected_by\\x94\\x8c#Renmin Hospital of Wuhan University\\x94\\x8c\\rpatient_group\\x94\\x8c\\x10early outpatient\\x94u\\x8c\\x02B9\\x94}\\x94(\\x8c\\naccessions\\x94]\\x94(\\x8c\\x0bSRR11313445\\x94\\x8c\\x0bSRR11313446\\x94e\\x8c\\x0ccollected_by\\x94\\x8c#Renmin Hospital of Wuhan University\\x94\\x8c\\rpatient_group\\x94\\x8c\\x10early outpatient\\x94u\\x8c\\x02C1\\x94}\\x94(\\x8c\\naccessions\\x94]\\x94(\\x8c\\x0bSRR11313287\\x94\\x8c\\x0bSRR11313289\\x94e\\x8c\\x0ccollected_by\\x94\\x8c#Renmin Hospital of Wuhan University\\x94\\x8c\\rpatient_group\\x94\\x8c\\x10early outpatient\\x94u\\x8c\\x02C2\\x94}\\x94(\\x8c\\naccessions\\x94]\\x94(\\x8c\\x0bSRR11313285\\x94\\x8c\\x0bSRR11313286\\x94e\\x8c\\x0ccollected_by\\x94\\x8c#Renmin Hospital of Wuhan University\\x94\\x8c\\rpatient_group\\x94\\x8c\\x10early outpatient\\x94u\\x8c\\x02C9\\x94}\\x94(\\x8c\\naccessions\\x94]\\x94(\\x8c\\x0bSRR11313441\\x94\\x8c\\x0bSRR11313442\\x94e\\x8c\\x0ccollected_by\\x94\\x8c#Renmin Hospital of Wuhan University\\x94\\x8c\\rpatient_group\\x94\\x8c\\x10early outpatient\\x94u\\x8c\\x03C11\\x94}\\x94(\\x8c\\naccessions\\x94]\\x94(\\x8c\\x0bSRR11313300\\x94\\x8c\\x0bSRR11313311\\x94e\\x8c\\x0ccollected_by\\x94\\x8c#Renmin Hospital of Wuhan University\\x94\\x8c\\rpatient_group\\x94\\x8c\\x10early outpatient\\x94u\\x8c\\x03C12\\x94}\\x94(\\x8c\\naccessions\\x94]\\x94(\\x8c\\x0bSRR11313443\\x94\\x8c\\x0bSRR11313444\\x94e\\x8c\\x0ccollected_by\\x94\\x8c#Renmin Hospital of Wuhan University\\x94\\x8c\\rpatient_group\\x94\\x8c\\x10early outpatient\\x94u\\x8c\\x02D9\\x94}\\x94(\\x8c\\naccessions\\x94]\\x94(\\x8c\\x0bSRR11313436\\x94\\x8c\\x0bSRR11313437\\x94e\\x8c\\x0ccollected_by\\x94\\x8c#Renmin Hospital of Wuhan University\\x94\\x8c\\rpatient_group\\x94\\x8c\\x10early outpatient\\x94u\\x8c\\x03D11\\x94}\\x94(\\x8c\\naccessions\\x94]\\x94(\\x8c\\x0bSRR11313438\\x94\\x8c\\x0bSRR11313440\\x94e\\x8c\\x0ccollected_by\\x94\\x8c#Renmin Hospital of Wuhan University\\x94\\x8c\\rpatient_group\\x94\\x8c\\x10early outpatient\\x94u\\x8c\\x03D12\\x94}\\x94(\\x8c\\naccessions\\x94]\\x94(\\x8c\\x0bSRR11313280\\x94\\x8c\\x0bSRR11313281\\x94e\\x8c\\x0ccollected_by\\x94\\x8c#Renmin Hospital of Wuhan University\\x94\\x8c\\rpatient_group\\x94\\x8c\\x10early outpatient\\x94u\\x8c\\x02E1\\x94}\\x94(\\x8c\\naccessions\\x94]\\x94(\\x8c\\x0bSRR11313276\\x94\\x8c\\x0bSRR11313277\\x94e\\x8c\\x0ccollected_by\\x94\\x8c#Renmin Hospital of Wuhan University\\x94\\x8c\\rpatient_group\\x94\\x8c\\x10early outpatient\\x94u\\x8c\\x02E3\\x94}\\x94(\\x8c\\naccessions\\x94]\\x94(\\x8c\\x0bSRR11313430\\x94\\x8c\\x0bSRR11313431\\x94e\\x8c\\x0ccollected_by\\x94\\x8c#Renmin Hospital of Wuhan University\\x94\\x8c\\rpatient_group\\x94\\x8c\\x10early outpatient\\x94u\\x8c\\x02E5\\x94}\\x94(\\x8c\\naccessions\\x94]\\x94(\\x8c\\x0bSRR11313274\\x94\\x8c\\x0bSRR11313275\\x94e\\x8c\\x0ccollected_by\\x94\\x8c#Renmin Hospital of Wuhan University\\x94\\x8c\\rpatient_group\\x94\\x8c\\x10early outpatient\\x94u\\x8c\\x02E6\\x94}\\x94(\\x8c\\naccessions\\x94]\\x94(\\x8c\\x0bSRR11313427\\x94\\x8c\\x0bSRR11313429\\x94e\\x8c\\x0ccollected_by\\x94\\x8c#Renmin Hospital of Wuhan University\\x94\\x8c\\rpatient_group\\x94\\x8c\\x10early outpatient\\x94u\\x8c\\x03E11\\x94}\\x94(\\x8c\\naccessions\\x94]\\x94(\\x8c\\x0bSRR11313434\\x94\\x8c\\x0bSRR11313435\\x94e\\x8c\\x0ccollected_by\\x94\\x8c#Renmin Hospital of Wuhan University\\x94\\x8c\\rpatient_group\\x94\\x8c\\x10early outpatient\\x94u\\x8c\\x03E12\\x94}\\x94(\\x8c\\naccessions\\x94]\\x94(\\x8c\\x0bSRR11313432\\x94\\x8c\\x0bSRR11313433\\x94e\\x8c\\x0ccollected_by\\x94\\x8c#Renmin Hospital of Wuhan University\\x94\\x8c\\rpatient_group\\x94\\x8c\\x10early outpatient\\x94u\\x8c\\x02F5\\x94}\\x94(\\x8c\\naccessions\\x94]\\x94(\\x8c\\x0bSRR11313270\\x94\\x8c\\x0bSRR11313470\\x94e\\x8c\\x0ccollected_by\\x94\\x8c#Renmin Hospital of Wuhan University\\x94\\x8c\\rpatient_group\\x94\\x8c\\x10early outpatient\\x94u\\x8c\\x02F8\\x94}\\x94(\\x8c\\naccessions\\x94]\\x94(\\x8c\\x0bSRR11313423\\x94\\x8c\\x0bSRR11313424\\x94e\\x8c\\x0ccollected_by\\x94\\x8c#Renmin Hospital of Wuhan University\\x94\\x8c\\rpatient_group\\x94\\x8c\\x10early outpatient\\x94u\\x8c\\x03F11\\x94}\\x94(\\x8c\\naccessions\\x94]\\x94(\\x8c\\x0bSRR11313425\\x94\\x8c\\x0bSRR11313426\\x94e\\x8c\\x0ccollected_by\\x94\\x8c#Renmin Hospital of Wuhan University\\x94\\x8c\\rpatient_group\\x94\\x8c\\x10early outpatient\\x94u\\x8c\\x02G1\\x94}\\x94(\\x8c\\naccessions\\x94]\\x94(\\x8c\\x0bSRR11313468\\x94\\x8c\\x0bSRR11313469\\x94e\\x8c\\x0ccollected_by\\x94\\x8c#Renmin Hospital of Wuhan University\\x94\\x8c\\rpatient_group\\x94\\x8c\\x10early outpatient\\x94u\\x8c\\x03G11\\x94}\\x94(\\x8c\\naccessions\\x94]\\x94(\\x8c\\x0bSRR11313421\\x94\\x8c\\x0bSRR11313422\\x94e\\x8c\\x0ccollected_by\\x94\\x8c#Renmin Hospital of Wuhan University\\x94\\x8c\\rpatient_group\\x94\\x8c\\x10early outpatient\\x94u\\x8c\\x03G12\\x94}\\x94(\\x8c\\naccessions\\x94]\\x94(\\x8c\\x0bSRR11313419\\x94\\x8c\\x0bSRR11313420\\x94e\\x8c\\x0ccollected_by\\x94\\x8c#Renmin Hospital of Wuhan University\\x94\\x8c\\rpatient_group\\x94\\x8c\\x10early outpatient\\x94u\\x8c\\x02H9\\x94}\\x94(\\x8c\\naccessions\\x94]\\x94(\\x8c\\x0bSRR11313464\\x94\\x8c\\x0bSRR11313465\\x94e\\x8c\\x0ccollected_by\\x94\\x8c#Renmin Hospital of Wuhan University\\x94\\x8c\\rpatient_group\\x94\\x8c\\x10early outpatient\\x94u\\x8c\\x03H12\\x94}\\x94(\\x8c\\naccessions\\x94]\\x94(\\x8c\\x0bSRR11313466\\x94\\x8c\\x0bSRR11313467\\x94e\\x8c\\x0ccollected_by\\x94\\x8c#Renmin Hospital of Wuhan University\\x94\\x8c\\rpatient_group\\x94\\x8c\\x10early outpatient\\x94u\\x8c\\x03R01\\x94}\\x94(\\x8c\\naccessions\\x94]\\x94(\\x8c\\x0bSRR11313409\\x94\\x8c\\x0bSRR11313410\\x94e\\x8c\\x0ccollected_by\\x94\\x8c#Renmin Hospital of Wuhan University\\x94\\x8c\\rpatient_group\\x94\\x8c\\x16hospital patient (Feb)\\x94u\\x8c\\x03R02\\x94}\\x94(\\x8c\\naccessions\\x94]\\x94(\\x8c\\x0bSRR11313406\\x94\\x8c\\x0bSRR11313408\\x94e\\x8c\\x0ccollected_by\\x94\\x8c#Renmin Hospital of Wuhan University\\x94\\x8c\\rpatient_group\\x94\\x8c\\x16hospital patient (Feb)\\x94u\\x8c\\x03R03\\x94}\\x94(\\x8c\\naccessions\\x94]\\x94(\\x8c\\x0bSRR11313269\\x94\\x8c\\x0bSRR11313471\\x94e\\x8c\\x0ccollected_by\\x94\\x8c#Renmin Hospital of Wuhan University\\x94\\x8c\\rpatient_group\\x94\\x8c\\x16hospital patient (Feb)\\x94u\\x8c\\x03R04\\x94}\\x94(\\x8c\\naccessions\\x94]\\x94\\x8c\\x0bSRR11313509\\x94a\\x8c\\x0ccollected_by\\x94\\x8c#Renmin Hospital of Wuhan University\\x94\\x8c\\rpatient_group\\x94\\x8c\\x16hospital patient (Feb)\\x94u\\x8c\\x03R05\\x94}\\x94(\\x8c\\naccessions\\x94]\\x94(\\x8c\\x0bSRR11313507\\x94\\x8c\\x0bSRR11313508\\x94e\\x8c\\x0ccollected_by\\x94\\x8c#Renmin Hospital of Wuhan University\\x94\\x8c\\rpatient_group\\x94\\x8c\\x16hospital patient (Feb)\\x94u\\x8c\\x03R06\\x94}\\x94(\\x8c\\naccessions\\x94]\\x94(\\x8c\\x0bSRR11313505\\x94\\x8c\\x0bSRR11313506\\x94e\\x8c\\x0ccollected_by\\x94\\x8c#Renmin Hospital of Wuhan University\\x94\\x8c\\rpatient_group\\x94\\x8c\\x16hospital patient (Feb)\\x94u\\x8c\\x03R07\\x94}\\x94(\\x8c\\naccessions\\x94]\\x94(\\x8c\\x0bSRR11313503\\x94\\x8c\\x0bSRR11313504\\x94e\\x8c\\x0ccollected_by\\x94\\x8c#Renmin Hospital of Wuhan University\\x94\\x8c\\rpatient_group\\x94\\x8c\\x16hospital patient (Feb)\\x94u\\x8c\\x03R08\\x94}\\x94(\\x8c\\naccessions\\x94]\\x94(\\x8c\\x0bSRR11313500\\x94\\x8c\\x0bSRR11313502\\x94e\\x8c\\x0ccollected_by\\x94\\x8c#Renmin Hospital of Wuhan University\\x94\\x8c\\rpatient_group\\x94\\x8c\\x16hospital patient (Feb)\\x94u\\x8c\\x03R09\\x94}\\x94(\\x8c\\naccessions\\x94]\\x94\\x8c\\x0bSRR11313498\\x94a\\x8c\\x0ccollected_by\\x94\\x8c#Renmin Hospital of Wuhan University\\x94\\x8c\\rpatient_group\\x94\\x8c\\x16hospital patient (Feb)\\x94u\\x8c\\x03R10\\x94}\\x94(\\x8c\\naccessions\\x94]\\x94(\\x8c\\x0bSRR11313496\\x94\\x8c\\x0bSRR11313497\\x94e\\x8c\\x0ccollected_by\\x94\\x8c#Renmin Hospital of Wuhan University\\x94\\x8c\\rpatient_group\\x94\\x8c\\x16hospital patient (Feb)\\x94u\\x8c\\x03R11\\x94}\\x94(\\x8c\\naccessions\\x94]\\x94(\\x8c\\x0bSRR11313494\\x94\\x8c\\x0bSRR11313495\\x94e\\x8c\\x0ccollected_by\\x94\\x8c#Renmin Hospital of Wuhan University\\x94\\x8c\\rpatient_group\\x94\\x8c\\x16hospital patient (Feb)\\x94u\\x8c\\x03R12\\x94}\\x94(\\x8c\\naccessions\\x94]\\x94(\\x8c\\x0bSRR11313492\\x94\\x8c\\x0bSRR11313493\\x94e\\x8c\\x0ccollected_by\\x94\\x8c#Renmin Hospital of Wuhan University\\x94\\x8c\\rpatient_group\\x94\\x8c\\x16hospital patient (Feb)\\x94u\\x8c\\x03R13\\x94}\\x94(\\x8c\\naccessions\\x94]\\x94(\\x8c\\x0bSRR11313489\\x94\\x8c\\x0bSRR11313491\\x94e\\x8c\\x0ccollected_by\\x94\\x8c#Renmin Hospital of Wuhan University\\x94\\x8c\\rpatient_group\\x94\\x8c\\x16hospital patient (Feb)\\x94u\\x8c\\x03R14\\x94}\\x94(\\x8c\\naccessions\\x94]\\x94(\\x8c\\x0bSRR11313487\\x94\\x8c\\x0bSRR11313488\\x94e\\x8c\\x0ccollected_by\\x94\\x8c#Renmin Hospital of Wuhan University\\x94\\x8c\\rpatient_group\\x94\\x8c\\x16hospital patient (Feb)\\x94u\\x8c\\x03R15\\x94}\\x94(\\x8c\\naccessions\\x94]\\x94(\\x8c\\x0bSRR11313485\\x94\\x8c\\x0bSRR11313486\\x94e\\x8c\\x0ccollected_by\\x94\\x8c#Renmin Hospital of Wuhan University\\x94\\x8c\\rpatient_group\\x94\\x8c\\x16hospital patient (Feb)\\x94u\\x8c\\x03R16\\x94}\\x94(\\x8c\\naccessions\\x94]\\x94(\\x8c\\x0bSRR11313483\\x94\\x8c\\x0bSRR11313484\\x94e\\x8c\\x0ccollected_by\\x94\\x8c#Renmin Hospital of Wuhan University\\x94\\x8c\\rpatient_group\\x94\\x8c\\x16hospital patient (Feb)\\x94uuu\\x8c\\x04rule\\x94\\x8c\\x0fvisualize_trees\\x94\\x8c\\x0fbench_iteration\\x94N\\x8c\\tscriptdir\\x94\\x8c-/home/jbloom/SARS-CoV-2_PRJNA612766/notebooks\\x94ub.\"); from snakemake.logging import logger; logger.printshellcmds = False; import os; os.chdir('/home/jbloom/SARS-CoV-2_PRJNA612766');\n",
    "######## snakemake preamble end #########\n",
    "snakemake.params.progenitors = [os.path.basename(f) for f in snakemake.params.progenitors]"
   ]
  },
  {
   "cell_type": "code",
   "execution_count": null,
   "id": "9949903a-a253-442c-a4f5-853281ae8712",
   "metadata": {
    "tags": []
   },
   "outputs": [],
   "source": [
    "tree_files = snakemake.input.trees\n",
    "state_files = snakemake.input.states\n",
    "all_csv = snakemake.input.all_csv\n",
    "alignment = snakemake.input.alignment\n",
    "region_csv = snakemake.input.region_csv\n",
    "comparator_map_csv = snakemake.input.comparator_map\n",
    "site_offset = snakemake.params.site_offset\n",
    "progenitors = snakemake.params.progenitors"
   ]
  },
  {
   "cell_type": "markdown",
   "id": "24dbcbbf-d480-44d5-88ae-219d22a1d06d",
   "metadata": {},
   "source": [
    "Read data frames:"
   ]
  },
  {
   "cell_type": "code",
   "execution_count": null,
   "id": "e378dfd5-7bf6-4976-858e-d761a28e9ddd",
   "metadata": {
    "tags": []
   },
   "outputs": [],
   "source": [
    "all_df = pd.read_csv(all_csv, na_filter=None)\n",
    "\n",
    "region_df = pd.read_csv(region_csv, na_filter=None)\n",
    "\n",
    "outgroup_map = pd.read_csv(comparator_map_csv)"
   ]
  },
  {
   "cell_type": "markdown",
   "id": "409e1979-accd-4de2-816d-92c30aa4851e",
   "metadata": {},
   "source": [
    "Read the reconstructed states and add the tip states, considering only sites where there are multiple identities.\n",
    "Now we make a matrix of substitutions of each node relative to each other.\n",
    "Note that in the general case this could get **really slow**, although for the small-ish alignment of similar sequences used here it's fine:"
   ]
  },
  {
   "cell_type": "code",
   "execution_count": null,
   "id": "76776027-a9f5-4b58-94cc-a6810733eea4",
   "metadata": {
    "tags": []
   },
   "outputs": [],
   "source": [
    "assert len(state_files) == len(tree_files) == len(progenitors)\n",
    "\n",
    "tip_to_seq = {s.id: list(str(s.seq).upper())\n",
    "              for s in Bio.SeqIO.parse(alignment, 'fasta')}\n",
    "\n",
    "tip_states = (\n",
    "    pd.DataFrame.from_dict(tip_to_seq, orient='index')\n",
    "    .rename_axis('Node')\n",
    "    .reset_index()\n",
    "    .melt(id_vars='Node',\n",
    "          var_name='Site',\n",
    "          value_name='State',\n",
    "          )\n",
    "    .assign(Site=lambda x: x['Site'] + 1)\n",
    "    )\n",
    "\n",
    "subs_matrices = {}\n",
    "\n",
    "for progenitor, state_file in zip(progenitors, state_files):\n",
    "    internal_states = (\n",
    "        pd.read_csv(state_file,\n",
    "                    sep='\\t',\n",
    "                    comment='#',\n",
    "                    usecols=['Node', 'Site', 'State'])\n",
    "        )\n",
    "\n",
    "    states = (\n",
    "        internal_states\n",
    "        .append(tip_states)\n",
    "        .assign(Site=lambda x: x['Site'] + site_offset,\n",
    "                n_states_at_site=lambda x: x.groupby('Site')['State'].transform('nunique'),\n",
    "                )\n",
    "        .query('n_states_at_site > 1')\n",
    "        .drop(columns='n_states_at_site')\n",
    "        )\n",
    "\n",
    "    states_dict = states.set_index(['Node', 'Site'])['State'].to_dict()\n",
    "\n",
    "    nodes = states['Node'].unique().tolist()\n",
    "    sites = sorted(states['Site'].unique())\n",
    "\n",
    "    subs_matrix = {}  # keyed by (parent, descendant)\n",
    "    for n1, n2 in itertools.product(nodes, nodes):\n",
    "        subs = []\n",
    "        for site in sites:\n",
    "            nt1 = states_dict[(n1, site)]\n",
    "            nt2 = states_dict[(n2, site)]\n",
    "            if nt1 != nt2:\n",
    "                if nt1 in {'A', 'C', 'G', 'T'} and nt2 in {'A', 'C', 'G', 'T'}:\n",
    "                    subs.append(f\"{nt1}{site}{nt2}\")\n",
    "        subs_matrix[(n1, n2)] = ', '.join(subs)\n",
    "    subs_matrices[progenitor] = subs_matrix"
   ]
  },
  {
   "cell_type": "markdown",
   "id": "3a9cfede-be9d-46f2-b06d-55680307bd08",
   "metadata": {},
   "source": [
    "This next line enables Jupyter notebook rendering of trees in `ete3`:"
   ]
  },
  {
   "cell_type": "code",
   "execution_count": null,
   "id": "2fb14609-cbb3-404f-9bc4-59edae32db39",
   "metadata": {},
   "outputs": [],
   "source": [
    "# to enable jupyter notebook rendering: \n",
    "os.environ['QT_QPA_PLATFORM'] = 'offscreen'"
   ]
  },
  {
   "cell_type": "markdown",
   "id": "de13b90e-f260-417d-82ac-0947e0ecef93",
   "metadata": {},
   "source": [
    "Identify possible progenitors as the sequences with the smallest distance to the outgroup:"
   ]
  },
  {
   "cell_type": "markdown",
   "id": "1103095a-e62c-486d-b3ac-3f2e25c89a0f",
   "metadata": {},
   "source": [
    "Function get and and prettify tree:"
   ]
  },
  {
   "cell_type": "code",
   "execution_count": null,
   "id": "49c5a130-95bf-4b1f-b1c9-b66381e99bef",
   "metadata": {
    "tags": []
   },
   "outputs": [],
   "source": [
    "def get_pretty_tree(treefile,\n",
    "                    df,\n",
    "                    subs_matrix,\n",
    "                    widthscale=1000,\n",
    "                    heightscale=1,\n",
    "                    nodesizescale=5,\n",
    "                    rootlength=0.05,\n",
    "                    ):\n",
    "    \"\"\"Returns `(tree, tree_style)`.\"\"\"\n",
    "    annotations = df.set_index('representative_strain').to_dict(orient='index')\n",
    "   \n",
    "    t = ete3.Tree(treefile, format=1)\n",
    "\n",
    "    ts = ete3.TreeStyle()\n",
    "    ts.show_leaf_name = False  # add tip names manually\n",
    "    height = t.get_farthest_node()[1]\n",
    "    ts.scale = widthscale / height\n",
    "    ts.branch_vertical_margin = heightscale\n",
    "    \n",
    "    # set root height\n",
    "    t.dist = rootlength * height\n",
    "    \n",
    "    for n in t.traverse():\n",
    "        if n != t:\n",
    "            subs = subs_matrix[(n.up.name, n.name)]\n",
    "            if subs:\n",
    "                n.add_face(ete3.TextFace(subs,\n",
    "                                         fsize=8),\n",
    "                           position='branch-top',\n",
    "                           column=0,\n",
    "                           )\n",
    "        \n",
    "        nstyle = ete3.NodeStyle()\n",
    "        nstyle['hz_line_width'] = 2\n",
    "        nstyle['vt_line_width'] = 2\n",
    "        nstyle['hz_line_color'] = 'black'\n",
    "        nstyle['vt_line_color'] = 'black'\n",
    "        \n",
    "        if n.is_leaf():\n",
    "            nstyle['size'] = nodesizescale * math.sqrt(annotations[n.name]['nstrains'])\n",
    "            n.add_face(ete3.TextFace(annotations[n.name]['substitutions'],\n",
    "                                     tight_text=True,\n",
    "                                     fsize=8,\n",
    "                                     ),\n",
    "                       column=0,\n",
    "                       position='branch-right',\n",
    "                       )\n",
    "            if annotations[n.name]['nstrains'] == 1:\n",
    "                nstyle['fgcolor'] = 'gray'\n",
    "            elif 'T3171C' in annotations[n.name]['substitutions']:\n",
    "                nstyle['fgcolor'] = 'purple'\n",
    "            elif 'C29095T' in annotations[n.name]['substitutions']:\n",
    "                nstyle['fgcolor'] = 'red'\n",
    "            elif not annotations[n.name]['substitutions']:\n",
    "                nstyle['fgcolor'] = 'orange'\n",
    "            else:\n",
    "                nstyle['fgcolor'] = 'blue'\n",
    "            \n",
    "        else:\n",
    "            nstyle['size'] = 0\n",
    "        \n",
    "        n.set_style(nstyle)\n",
    "        \n",
    "    t.ladderize()\n",
    "    \n",
    "    return t, ts\n",
    "\n",
    "assert len(progenitors) == len(tree_files)\n",
    "for progenitor, tree_file in zip(progenitors, tree_files):\n",
    "    print(progenitor)\n",
    "    t, ts = get_pretty_tree(tree_file,\n",
    "                            df=all_df,\n",
    "                            subs_matrix=subs_matrices[progenitor],\n",
    "                            )\n",
    "    display(t.render('%%inline', tree_style=ts, w=1000))"
   ]
  },
  {
   "cell_type": "code",
   "execution_count": null,
   "id": "ba8abe90-93f5-4594-b0c7-a3ab2b01a921",
   "metadata": {},
   "outputs": [],
   "source": []
  }
 ],
 "metadata": {
  "kernelspec": {
   "display_name": "Python 3",
   "language": "python",
   "name": "python3"
  },
  "language_info": {
   "codemirror_mode": {
    "name": "ipython",
    "version": 3
   },
   "file_extension": ".py",
   "mimetype": "text/x-python",
   "name": "python",
   "nbconvert_exporter": "python",
   "pygments_lexer": "ipython3",
   "version": "3.8.10"
  }
 },
 "nbformat": 4,
 "nbformat_minor": 5
}
