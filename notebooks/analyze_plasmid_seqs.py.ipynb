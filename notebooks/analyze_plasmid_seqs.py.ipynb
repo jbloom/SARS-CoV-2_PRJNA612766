{
 "cells": [
  {
   "cell_type": "markdown",
   "id": "80ed938a-624e-45e9-b367-e24068e72a73",
   "metadata": {},
   "source": [
    "# Analyze the plasmid control sequences\n",
    "\n",
    "Get variables from `snakemake`:"
   ]
  },
  {
   "cell_type": "code",
   "execution_count": null,
   "id": "b8955318-c010-40fb-a114-f2a3c2438285",
   "metadata": {
    "tags": []
   },
   "outputs": [],
   "source": [
    "pileup_csvs = snakemake.input.pileups\n",
    "consensus_min_frac = snakemake.params.consensus_min_frac\n",
    "consensus_min_coverage = snakemake.params.consensus_min_coverage\n",
    "descriptors = snakemake.params.descriptors\n",
    "plasmid_muts_csv = snakemake.output.plasmid_muts"
   ]
  },
  {
   "cell_type": "markdown",
   "id": "ec9339c4-1bc3-43b5-906f-167222859c70",
   "metadata": {},
   "source": [
    "Import Python modules:"
   ]
  },
  {
   "cell_type": "code",
   "execution_count": null,
   "id": "b7de4b61-552d-4b32-a680-8a39bdbec508",
   "metadata": {},
   "outputs": [],
   "source": [
    "import altair as alt\n",
    "\n",
    "import altair_saver\n",
    "\n",
    "import pandas as pd\n",
    "\n",
    "_ = alt.data_transformers.disable_max_rows()"
   ]
  },
  {
   "cell_type": "markdown",
   "id": "158bfe7b-0b6b-4c30-b933-494bc31483c2",
   "metadata": {},
   "source": [
    "Read the data:"
   ]
  },
  {
   "cell_type": "code",
   "execution_count": null,
   "id": "4299ff2c-0b3e-402f-bc90-e090393a0402",
   "metadata": {
    "tags": []
   },
   "outputs": [],
   "source": [
    "nts = ['A', 'C', 'G', 'T']\n",
    "\n",
    "assert len(descriptors) == len(pileup_csvs)\n",
    "\n",
    "pileups = (pd.concat([pd.read_csv(f).assign(**descriptor)\n",
    "                      for f, descriptor in zip(pileup_csvs, descriptors)])\n",
    "           .assign(depth=lambda x: x[nts].sum(axis=1),\n",
    "                   consensus=lambda x: x[nts].idxmax(axis=1),\n",
    "                   consensus_frac=lambda x: x[nts].max(axis=1) / x['depth'],\n",
    "                   site_called=lambda x: ((x['depth'] >= consensus_min_coverage) &\n",
    "                                          (x['consensus_frac'] > consensus_min_frac))\n",
    "                   )         \n",
    "           )"
   ]
  },
  {
   "cell_type": "markdown",
   "id": "868c9e62-d73b-4545-9748-882ae706b085",
   "metadata": {},
   "source": [
    "Get all sites mutated in at least one sample:"
   ]
  },
  {
   "cell_type": "code",
   "execution_count": null,
   "id": "4e3aca41-0098-4140-aa90-0f03c91c798b",
   "metadata": {
    "tags": []
   },
   "outputs": [],
   "source": [
    "mutated_sites = (\n",
    "    pileups\n",
    "    .query('site_called')\n",
    "    .query('consensus != reference')\n",
    "    ['site']\n",
    "    .unique()\n",
    "    .tolist()\n",
    "    )\n",
    "\n",
    "print(mutated_sites)"
   ]
  },
  {
   "cell_type": "markdown",
   "id": "f3cdaeb4-143c-45c1-8cb6-e9d86608ae6b",
   "metadata": {
    "execution": {
     "iopub.execute_input": "2021-06-14T02:51:34.663488Z",
     "iopub.status.busy": "2021-06-14T02:51:34.663063Z",
     "iopub.status.idle": "2021-06-14T02:51:34.696259Z",
     "shell.execute_reply": "2021-06-14T02:51:34.695367Z",
     "shell.execute_reply.started": "2021-06-14T02:51:34.663451Z"
    }
   },
   "source": [
    "Get counts at mutated sites.\n",
    "Shows that most samples have refernece nucleotide at all sites except that reference has G28085T and C28144T (the latter being consistent with aligning against proCoV2 rather than Wuhan-Hu-1)."
   ]
  },
  {
   "cell_type": "code",
   "execution_count": null,
   "id": "21739559-00ae-434f-a0f9-615f824ff9d0",
   "metadata": {
    "tags": []
   },
   "outputs": [],
   "source": [
    "mut_site_counts = (\n",
    "    pileups\n",
    "    .query('site in @mutated_sites')\n",
    "    .query('site_called')\n",
    "    .sort_values('site')\n",
    "    .groupby(['site', 'reference', 'aligner', 'consensus'])\n",
    "    .aggregate(nsample=pd.NamedAgg('sample', 'count'))\n",
    "    )\n",
    "\n",
    "display(mut_site_counts)\n",
    "\n",
    "print(f\"Writing to {plasmid_muts_csv}\")\n",
    "mut_site_counts.to_csv(plasmid_muts_csv)"
   ]
  },
  {
   "cell_type": "code",
   "execution_count": null,
   "id": "da620459-74f8-4890-bb07-628ebe3ed11f",
   "metadata": {},
   "outputs": [],
   "source": []
  }
 ],
 "metadata": {
  "kernelspec": {
   "display_name": "Python 3",
   "language": "python",
   "name": "python3"
  },
  "language_info": {
   "codemirror_mode": {
    "name": "ipython",
    "version": 3
   },
   "file_extension": ".py",
   "mimetype": "text/x-python",
   "name": "python",
   "nbconvert_exporter": "python",
   "pygments_lexer": "ipython3",
   "version": "3.8.10"
  }
 },
 "nbformat": 4,
 "nbformat_minor": 5
}
