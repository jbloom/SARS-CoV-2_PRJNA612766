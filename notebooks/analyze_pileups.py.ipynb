{
 "cells": [
  {
   "cell_type": "markdown",
   "id": "bb9f1acc-d267-45b3-a20f-2db78cfcc723",
   "metadata": {},
   "source": [
    "# Analyze BAM pileups\n",
    "\n",
    "Import Python modules:"
   ]
  },
  {
   "cell_type": "code",
   "execution_count": null,
   "id": "a3f9e2ad-e8c1-4d6f-b9f2-2c9302c91a29",
   "metadata": {
    "tags": []
   },
   "outputs": [],
   "source": [
    "import altair as alt\n",
    "\n",
    "import pandas as pd\n",
    "\n",
    "_ = alt.data_transformers.disable_max_rows()"
   ]
  },
  {
   "cell_type": "markdown",
   "id": "9f7ac0ba-1cfa-46b6-b430-236dc9a34b1f",
   "metadata": {},
   "source": [
    "Get key variables from `Snakemake`:"
   ]
  },
  {
   "cell_type": "code",
   "execution_count": null,
   "id": "2e5b35e9-89c2-4c47-bbeb-58a4f89e6e97",
   "metadata": {
    "tags": []
   },
   "outputs": [],
   "source": [
    "pileup_files = snakemake.input.pileups\n",
    "chart_file = snakemake.output.chart\n",
    "diffs_from_ref_file = snakemake.output.diffs_from_ref\n",
    "frac_coverage_file = snakemake.output.frac_coverage\n",
    "pileup_csv = snakemake.output.pileup_csv\n",
    "consensus_min_coverage = snakemake.params.consensus_min_coverage\n",
    "consensus_min_frac = snakemake.params.consensus_min_frac\n",
    "report_frac_coverage = snakemake.params.report_frac_coverage\n",
    "descriptors = snakemake.params.descriptors\n",
    "chart_title = snakemake.params.chart_title"
   ]
  },
  {
   "cell_type": "markdown",
   "id": "e9dc57e7-e8ce-4561-a159-68a9d320203f",
   "metadata": {},
   "source": [
    "Read the data:"
   ]
  },
  {
   "cell_type": "code",
   "execution_count": null,
   "id": "29dc99f0-3836-4bad-822d-7cdb5e43da4a",
   "metadata": {
    "tags": []
   },
   "outputs": [],
   "source": [
    "assert len(pileup_files) == len(descriptors) >= 1\n",
    "assert all(set(descriptors[0]) == set(descriptor)\n",
    "           for descriptor in descriptors)\n",
    "\n",
    "pileup = pd.DataFrame()\n",
    "for pileup_file, descriptor in zip(pileup_files, descriptors):\n",
    "    pileup = pileup.append(pd.read_csv(pileup_file)\n",
    "                             .assign(**descriptor),\n",
    "                           ignore_index=True\n",
    "                           )\n",
    "\n",
    "nts = ['A', 'C', 'G', 'T']\n",
    "req_cols = ['reference', 'site'] + nts\n",
    "descriptor_cols = list(descriptors[0])\n",
    "assert not set(req_cols).intersection(set(descriptor_cols))\n",
    "assert set(req_cols + descriptor_cols).issubset(set(pileup.columns))\n",
    "\n",
    "assert len(pileup) == len(pileup.drop_duplicates())\n",
    "assert pileup['site'].nunique() == pileup['site'].max()\n",
    "\n",
    "print(f\"Writing pileup to {pileup_csv}\")\n",
    "pileup.to_csv(pileup_csv, index=False)\n",
    "\n",
    "pileup"
   ]
  },
  {
   "cell_type": "markdown",
   "id": "646ab59a-df7b-4e14-9734-98fb6a4a9c43",
   "metadata": {
    "tags": []
   },
   "source": [
    "Identify differences between reference and consensus:"
   ]
  },
  {
   "cell_type": "code",
   "execution_count": null,
   "id": "44daeb8d-e8bb-4d86-ab7f-6e1dde2b90d2",
   "metadata": {
    "tags": []
   },
   "outputs": [],
   "source": [
    "diffs_from_ref = (\n",
    "    pileup\n",
    "    .assign(depth=lambda x: x[nts].sum(axis=1),\n",
    "            consensus=lambda x: x[nts].idxmax(axis=1),\n",
    "            consensus_frac=lambda x: x[nts].max(axis=1) / x['depth']\n",
    "            )\n",
    "    .query('depth >= @consensus_min_coverage')\n",
    "    .query('reference != consensus')\n",
    "    .query('consensus_frac > @consensus_min_frac')\n",
    "    )\n",
    "\n",
    "print(f\"Writing reference / consensus differences to {diffs_from_ref_file}\")\n",
    "diffs_from_ref.to_csv(diffs_from_ref_file, index=False)\n",
    "\n",
    "diffs_from_ref"
   ]
  },
  {
   "cell_type": "markdown",
   "id": "3a83fb79-33da-446e-ad48-c06809bb5013",
   "metadata": {},
   "source": [
    "Get fraction of sites above coverage cutoffs:"
   ]
  },
  {
   "cell_type": "code",
   "execution_count": null,
   "id": "24c41594-747e-4402-9b2b-ae0a16701418",
   "metadata": {
    "tags": []
   },
   "outputs": [],
   "source": [
    "assert not set(report_frac_coverage).intersection(pileup.columns)\n",
    "\n",
    "frac_coverage = (\n",
    "    pileup\n",
    "    .assign(depth=lambda x: x[nts].sum(axis=1))\n",
    "    )\n",
    "\n",
    "frac_coverage_list = []\n",
    "for cutoff in report_frac_coverage:\n",
    "    frac_coverage_list.append(\n",
    "        frac_coverage\n",
    "        .groupby(list(descriptors[0]))\n",
    "        .aggregate(\n",
    "            total_sites=pd.NamedAgg('site', 'nunique'),\n",
    "            sites_above_cutoff=pd.NamedAgg('depth', lambda s: (s >= cutoff).sum()),\n",
    "            )\n",
    "        .reset_index()\n",
    "        .assign(depth_cutoff=cutoff)\n",
    "        )\n",
    "    \n",
    "frac_coverage = (\n",
    "    pd.concat(frac_coverage_list)\n",
    "    .assign(frac_above_cutoff=lambda x: x['sites_above_cutoff'] / x['total_sites'])\n",
    "    [['aligner', 'depth_cutoff', 'frac_above_cutoff',\n",
    "      'sites_above_cutoff', 'total_sites']]\n",
    "    .reset_index(drop=True)\n",
    "    )\n",
    "\n",
    "print(f\"Saving to {frac_coverage_file}\")\n",
    "frac_coverage.to_csv(frac_coverage_file, index=False)\n",
    "\n",
    "frac_coverage"
   ]
  },
  {
   "cell_type": "markdown",
   "id": "4859b5c7-b45b-47e4-8e22-891b0d4964d7",
   "metadata": {},
   "source": [
    "Make interactive pilup plot (this plot will be large in terms of file size):"
   ]
  },
  {
   "cell_type": "code",
   "execution_count": null,
   "id": "7c9dd374-35a1-4d81-8a0c-b8e68e715cfe",
   "metadata": {
    "tags": []
   },
   "outputs": [],
   "source": [
    "width = 800\n",
    "\n",
    "descriptor_names = {'aligner': 'read',\n",
    "                    'sample': 'viral'}\n",
    "\n",
    "selections = {}\n",
    "for descriptor in descriptor_cols:\n",
    "    if descriptor not in descriptor_names:\n",
    "        raise ValueError(f\"no name for descriptor {descriptor}\")\n",
    "    selections[descriptor] = alt.selection_single(\n",
    "            name=descriptor_names[descriptor],\n",
    "            fields=[descriptor],\n",
    "            bind=alt.binding_select(options=pileup[descriptor].unique()),\n",
    "            init={descriptor: pileup[descriptor].unique()[0]}\n",
    "            )\n",
    "\n",
    "zoom_brush = alt.selection_interval(\n",
    "                encodings=['x'],\n",
    "                mark=alt.BrushConfig(stroke='black', strokeWidth=2)\n",
    "                )\n",
    "    \n",
    "site_zoom = (\n",
    "    alt.Chart(pileup[['site']].drop_duplicates())\n",
    "    .mark_rect(color='lightgray')\n",
    "    .encode(x=alt.X('site:O',\n",
    "                    axis=alt.Axis(grid=False,\n",
    "                                  ticks=False,\n",
    "                                  ),\n",
    "                    title='site zoom bar')\n",
    "            )\n",
    "    .add_selection(zoom_brush)\n",
    "    .properties(width=width,\n",
    "                height=15,\n",
    "                title=chart_title,\n",
    "                )\n",
    "    )\n",
    "\n",
    "pileup_chart = (\n",
    "    alt.Chart(pileup)\n",
    "    .encode(x=alt.X('site:O',\n",
    "                    axis=alt.Axis(grid=False,\n",
    "                                  ticks=False,\n",
    "                                  ),\n",
    "                    ),\n",
    "            y=alt.Y('depth:Q',\n",
    "                    title='sequencing depth'),\n",
    "            tooltip=['site', 'depth:Q', 'A', 'C', 'G', 'T'],\n",
    "            )\n",
    "    .mark_bar()\n",
    "    .add_selection(zoom_brush)\n",
    "    .transform_filter(zoom_brush)\n",
    "    .transform_calculate(\n",
    "        depth=alt.datum.A + alt.datum.C + alt.datum.G + alt.datum.T\n",
    "        )\n",
    "    .properties(height=250,\n",
    "                width=width,\n",
    "                )\n",
    "    )\n",
    "for selection in selections.values():\n",
    "    pileup_chart = (pileup_chart\n",
    "                    .add_selection(selection)\n",
    "                    .transform_filter(selection)\n",
    "                    )\n",
    "\n",
    "zoomable_pileup_chart = site_zoom & pileup_chart\n",
    "\n",
    "print(f\"Saving chart to {chart_file}\")\n",
    "zoomable_pileup_chart.save(chart_file)\n",
    "\n",
    "zoomable_pileup_chart"
   ]
  },
  {
   "cell_type": "code",
   "execution_count": null,
   "id": "ef1a8e5d-f9f2-4f0b-9b1c-a6316eeedbc8",
   "metadata": {},
   "outputs": [],
   "source": []
  }
 ],
 "metadata": {
  "kernelspec": {
   "display_name": "Python 3",
   "language": "python",
   "name": "python3"
  },
  "language_info": {
   "codemirror_mode": {
    "name": "ipython",
    "version": 3
   },
   "file_extension": ".py",
   "mimetype": "text/x-python",
   "name": "python",
   "nbconvert_exporter": "python",
   "pygments_lexer": "ipython3",
   "version": "3.8.10"
  }
 },
 "nbformat": 4,
 "nbformat_minor": 5
}
