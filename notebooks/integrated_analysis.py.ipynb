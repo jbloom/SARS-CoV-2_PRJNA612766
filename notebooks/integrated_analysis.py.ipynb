{
 "cells": [
  {
   "cell_type": "markdown",
   "id": "2a87d485-d61a-4ae1-854e-64a207f78616",
   "metadata": {},
   "source": [
    "# Integrate analysis of mutations relative to reference and GISAID / comparator sequences"
   ]
  },
  {
   "cell_type": "code",
   "execution_count": null,
   "id": "f21f813e-48cc-4590-91a9-6fba0ab4646f",
   "metadata": {
    "tags": []
   },
   "outputs": [],
   "source": [
    "\n",
    "\n",
    "######## snakemake preamble start (automatically inserted, do not edit) ########\n",
    "import sys; sys.path.extend(['/fh/fast/bloom_j/software/miniconda3/envs/SARS-CoV-2_PRJNA612766/lib/python3.8/site-packages', '/home/jbloom/SARS-CoV-2_PRJNA612766/notebooks']); import pickle; snakemake = pickle.loads(b'\\x80\\x04\\x95\\xc5%\\x00\\x00\\x00\\x00\\x00\\x00\\x8c\\x10snakemake.script\\x94\\x8c\\tSnakemake\\x94\\x93\\x94)\\x81\\x94}\\x94(\\x8c\\x05input\\x94\\x8c\\x0csnakemake.io\\x94\\x8c\\nInputFiles\\x94\\x93\\x94)\\x81\\x94(\\x8c$results/consensus/consensus_seqs.csv\\x94\\x8c!results/pileup/diffs_from_ref.csv\\x94\\x8c4results/comparator_annotated_gisaid_muts/muts.csv.gz\\x94e}\\x94(\\x8c\\x06_names\\x94}\\x94(\\x8c\\x04seqs\\x94K\\x00N\\x86\\x94\\x8c\\x05diffs\\x94K\\x01N\\x86\\x94\\x8c\\x0bgisaid_muts\\x94K\\x02N\\x86\\x94u\\x8c\\x12_allowed_overrides\\x94]\\x94(\\x8c\\x05index\\x94\\x8c\\x04sort\\x94eh\\x18\\x8c\\tfunctools\\x94\\x8c\\x07partial\\x94\\x93\\x94h\\x06\\x8c\\x19Namedlist._used_attribute\\x94\\x93\\x94\\x85\\x94R\\x94(h\\x1e)}\\x94\\x8c\\x05_name\\x94h\\x18sNt\\x94bh\\x19h\\x1ch\\x1e\\x85\\x94R\\x94(h\\x1e)}\\x94h\"h\\x19sNt\\x94bh\\x10h\\nh\\x12h\\x0bh\\x14h\\x0cub\\x8c\\x06output\\x94h\\x06\\x8c\\x0bOutputFiles\\x94\\x93\\x94)\\x81\\x94\\x8c\\x06report\\x94a}\\x94(h\\x0e}\\x94h\\x16]\\x94(h\\x18h\\x19eh\\x18h\\x1ch\\x1e\\x85\\x94R\\x94(h\\x1e)}\\x94h\"h\\x18sNt\\x94bh\\x19h\\x1ch\\x1e\\x85\\x94R\\x94(h\\x1e)}\\x94h\"h\\x19sNt\\x94bub\\x8c\\x06params\\x94h\\x06\\x8c\\x06Params\\x94\\x93\\x94)\\x81\\x94(M;TM\\xeas}\\x94(\\x8c\\x02A1\\x94\\x8c\\x10early outpatient\\x94\\x8c\\x02A2\\x94\\x8c\\x10early outpatient\\x94\\x8c\\x02A4\\x94\\x8c\\x10early outpatient\\x94\\x8c\\x02A6\\x94\\x8c\\x10early outpatient\\x94\\x8c\\x02A9\\x94\\x8c\\x10early outpatient\\x94\\x8c\\x03A11\\x94\\x8c\\x10early outpatient\\x94\\x8c\\x03A12\\x94\\x8c\\x10early outpatient\\x94\\x8c\\x02B1\\x94\\x8c\\x10early outpatient\\x94\\x8c\\x02B2\\x94\\x8c\\x10early outpatient\\x94\\x8c\\x02B3\\x94\\x8c\\x10early outpatient\\x94\\x8c\\x02B4\\x94\\x8c\\x10early outpatient\\x94\\x8c\\x02B9\\x94\\x8c\\x10early outpatient\\x94\\x8c\\x02C1\\x94\\x8c\\x10early outpatient\\x94\\x8c\\x02C2\\x94\\x8c\\x10early outpatient\\x94\\x8c\\x02C9\\x94\\x8c\\x10early outpatient\\x94\\x8c\\x03C11\\x94\\x8c\\x10early outpatient\\x94\\x8c\\x03C12\\x94\\x8c\\x10early outpatient\\x94\\x8c\\x02D9\\x94\\x8c\\x10early outpatient\\x94\\x8c\\x03D11\\x94\\x8c\\x10early outpatient\\x94\\x8c\\x03D12\\x94\\x8c\\x10early outpatient\\x94\\x8c\\x02E1\\x94\\x8c\\x10early outpatient\\x94\\x8c\\x02E3\\x94\\x8c\\x10early outpatient\\x94\\x8c\\x02E5\\x94\\x8c\\x10early outpatient\\x94\\x8c\\x02E6\\x94\\x8c\\x10early outpatient\\x94\\x8c\\x03E11\\x94\\x8c\\x10early outpatient\\x94\\x8c\\x03E12\\x94\\x8c\\x10early outpatient\\x94\\x8c\\x02F5\\x94\\x8c\\x10early outpatient\\x94\\x8c\\x02F8\\x94\\x8c\\x10early outpatient\\x94\\x8c\\x03F11\\x94\\x8c\\x10early outpatient\\x94\\x8c\\x02G1\\x94\\x8c\\x10early outpatient\\x94\\x8c\\x03G11\\x94\\x8c\\x10early outpatient\\x94\\x8c\\x03G12\\x94\\x8c\\x10early outpatient\\x94\\x8c\\x02H9\\x94\\x8c\\x10early outpatient\\x94\\x8c\\x03H12\\x94\\x8c\\x10early outpatient\\x94\\x8c\\x03R01\\x94\\x8c\\x1dFebruary hospitalized patient\\x94\\x8c\\x03R02\\x94\\x8c\\x1dFebruary hospitalized patient\\x94\\x8c\\x03R03\\x94\\x8c\\x1dFebruary hospitalized patient\\x94\\x8c\\x03R04\\x94\\x8c\\x1dFebruary hospitalized patient\\x94\\x8c\\x03R05\\x94\\x8c\\x1dFebruary hospitalized patient\\x94\\x8c\\x03R06\\x94\\x8c\\x1dFebruary hospitalized patient\\x94\\x8c\\x03R07\\x94\\x8c\\x1dFebruary hospitalized patient\\x94\\x8c\\x03R08\\x94\\x8c\\x1dFebruary hospitalized patient\\x94\\x8c\\x03R09\\x94\\x8c\\x1dFebruary hospitalized patient\\x94\\x8c\\x03R10\\x94\\x8c\\x1dFebruary hospitalized patient\\x94\\x8c\\x03R11\\x94\\x8c\\x1dFebruary hospitalized patient\\x94\\x8c\\x03R12\\x94\\x8c\\x1dFebruary hospitalized patient\\x94\\x8c\\x03R13\\x94\\x8c\\x1dFebruary hospitalized patient\\x94\\x8c\\x03R14\\x94\\x8c\\x1dFebruary hospitalized patient\\x94\\x8c\\x03R15\\x94\\x8c\\x1dFebruary hospitalized patient\\x94\\x8c\\x03R16\\x94\\x8c\\x1dFebruary hospitalized patient\\x94ue}\\x94(h\\x0e}\\x94(\\x8c\\x18region_of_interest_start\\x94K\\x00N\\x86\\x94\\x8c\\x16region_of_interest_end\\x94K\\x01N\\x86\\x94\\x8c\\x0epatient_groups\\x94K\\x02N\\x86\\x94uh\\x16]\\x94(h\\x18h\\x19eh\\x18h\\x1ch\\x1e\\x85\\x94R\\x94(h\\x1e)}\\x94h\"h\\x18sNt\\x94bh\\x19h\\x1ch\\x1e\\x85\\x94R\\x94(h\\x1e)}\\x94h\"h\\x19sNt\\x94bh\\xa3M;Th\\xa5M\\xeash\\xa7h<ub\\x8c\\twildcards\\x94h\\x06\\x8c\\tWildcards\\x94\\x93\\x94)\\x81\\x94}\\x94(h\\x0e}\\x94h\\x16]\\x94(h\\x18h\\x19eh\\x18h\\x1ch\\x1e\\x85\\x94R\\x94(h\\x1e)}\\x94h\"h\\x18sNt\\x94bh\\x19h\\x1ch\\x1e\\x85\\x94R\\x94(h\\x1e)}\\x94h\"h\\x19sNt\\x94bub\\x8c\\x07threads\\x94K\\x01\\x8c\\tresources\\x94h\\x06\\x8c\\tResources\\x94\\x93\\x94)\\x81\\x94(K\\x01K\\x01e}\\x94(h\\x0e}\\x94(\\x8c\\x06_cores\\x94K\\x00N\\x86\\x94\\x8c\\x06_nodes\\x94K\\x01N\\x86\\x94uh\\x16]\\x94(h\\x18h\\x19eh\\x18h\\x1ch\\x1e\\x85\\x94R\\x94(h\\x1e)}\\x94h\"h\\x18sNt\\x94bh\\x19h\\x1ch\\x1e\\x85\\x94R\\x94(h\\x1e)}\\x94h\"h\\x19sNt\\x94bh\\xc8K\\x01h\\xcaK\\x01ub\\x8c\\x03log\\x94h\\x06\\x8c\\x03Log\\x94\\x93\\x94)\\x81\\x94\\x8c0results/logs/notebooks/integrated_analysis.ipynb\\x94a}\\x94(h\\x0e}\\x94\\x8c\\x08notebook\\x94K\\x00N\\x86\\x94sh\\x16]\\x94(h\\x18h\\x19eh\\x18h\\x1ch\\x1e\\x85\\x94R\\x94(h\\x1e)}\\x94h\"h\\x18sNt\\x94bh\\x19h\\x1ch\\x1e\\x85\\x94R\\x94(h\\x1e)}\\x94h\"h\\x19sNt\\x94bh\\xdch\\xd9ub\\x8c\\x06config\\x94}\\x94(\\x8c\\x08max_cpus\\x94K\\x04\\x8c\\x0bscratch_dir\\x94\\x8c\\x11results/_scratch/\\x94\\x8c\\nref_genome\\x94}\\x94(\\x8c\\x05fasta\\x94\\x8c}ftp://ftp.ncbi.nlm.nih.gov/genomes/all/GCF/009/858/895/GCF_009858895.2_ASM985889v3/GCF_009858895.2_ASM985889v3_genomic.fna.gz\\x94\\x8c\\x03gff\\x94\\x8c}ftp://ftp.ncbi.nlm.nih.gov/genomes/all/GCF/009/858/895/GCF_009858895.2_ASM985889v3/GCF_009858895.2_ASM985889v3_genomic.gff.gz\\x94\\x8c\\x04name\\x94\\x8c\\x07proCoV2\\x94\\x8c\\radd_mutations\\x94]\\x94(\\x8c\\x06C8782T\\x94\\x8c\\x07C18060T\\x94\\x8c\\x07T28144C\\x94eu\\x8c\\x12comparator_genomes\\x94}\\x94(\\x8c\\x06RaTG13\\x94}\\x94\\x8c\\x07genbank\\x94\\x8c\\nMN996532.2\\x94s\\x8c\\x06RmYN02\\x94}\\x94\\x8c\\x06gisaid\\x94\\x8c\\x0eEPI_ISL_412977\\x94s\\x8c\\tRShSTT200\\x94}\\x94\\x8c\\x06gisaid\\x94\\x8c\\x0eEPI_ISL_852605\\x94s\\x8c\\x11GD_Pangolin_MP789\\x94}\\x94\\x8c\\x07genbank\\x94\\x8c\\nMT121216.1\\x94su\\x8c\\x0bgisaid_dirs\\x94]\\x94\\x8c\\x1edata/comparator_genomes_gisaid\\x94a\\x8c\\x08aligners\\x94]\\x94(\\x8c\\x08minimap2\\x94\\x8c\\x08bwa-mem2\\x94e\\x8c\\x04minq\\x94K\\x14\\x8c\\x0fmin_read_length\\x94K\\x14\\x8c\\x16consensus_min_coverage\\x94K\\x05\\x8c\\x12consensus_min_frac\\x94G?\\xe9\\x99\\x99\\x99\\x99\\x99\\x9a\\x8c\\x14report_frac_coverage\\x94]\\x94(K\\x01K\\x02K\\x04K\\nK\\x14K2Kde\\x8c\\x12region_of_interest\\x94}\\x94(\\x8c\\x05start\\x94M;T\\x8c\\x03end\\x94M\\xeasu\\x8c\\x14samples_fasterq_dump\\x94}\\x94\\x8c\\x0csamples_wget\\x94}\\x94(h=}\\x94(\\x8c\\naccessions\\x94]\\x94(\\x8c\\x0bSRR11313282\\x94\\x8c\\x0bSRR11313334\\x94e\\x8c\\x0ccollected_by\\x94\\x8c#Renmin Hospital of Wuhan University\\x94\\x8c\\rpatient_group\\x94h>uh?}\\x94(\\x8c\\naccessions\\x94]\\x94(\\x8c\\x0bSRR11313271\\x94\\x8c\\x0bSRR11313461\\x94e\\x8c\\x0ccollected_by\\x94\\x8c#Renmin Hospital of Wuhan University\\x94\\x8c\\rpatient_group\\x94h@uhA}\\x94(\\x8c\\naccessions\\x94]\\x94(\\x8c\\x0bSRR11313417\\x94\\x8c\\x0bSRR11313428\\x94e\\x8c\\x0ccollected_by\\x94\\x8c#Renmin Hospital of Wuhan University\\x94\\x8c\\rpatient_group\\x94hBuhC}\\x94(\\x8c\\naccessions\\x94]\\x94\\x8c\\x0bSRR11313479\\x94a\\x8c\\x0ccollected_by\\x94\\x8c#Renmin Hospital of Wuhan University\\x94\\x8c\\rpatient_group\\x94hDuhE}\\x94(\\x8c\\naccessions\\x94]\\x94(\\x8c\\x0bSRR11313345\\x94\\x8c\\x0bSRR11313356\\x94e\\x8c\\x0ccollected_by\\x94\\x8c#Renmin Hospital of Wuhan University\\x94\\x8c\\rpatient_group\\x94hFuhG}\\x94(\\x8c\\naccessions\\x94]\\x94(\\x8c\\x0bSRR11313455\\x94\\x8c\\x0bSRR11313456\\x94e\\x8c\\x0ccollected_by\\x94\\x8c#Renmin Hospital of Wuhan University\\x94\\x8c\\rpatient_group\\x94hHuhI}\\x94(\\x8c\\naccessions\\x94]\\x94(\\x8c\\x0bSRR11313473\\x94\\x8c\\x0bSRR11313474\\x94e\\x8c\\x0ccollected_by\\x94\\x8c#Renmin Hospital of Wuhan University\\x94\\x8c\\rpatient_group\\x94hJuhK}\\x94(\\x8c\\naccessions\\x94]\\x94(\\x8c\\x0bSRR11313453\\x94\\x8c\\x0bSRR11313454\\x94e\\x8c\\x0ccollected_by\\x94\\x8c#Renmin Hospital of Wuhan University\\x94\\x8c\\rpatient_group\\x94hLuhM}\\x94(\\x8c\\naccessions\\x94]\\x94(\\x8c\\x0bSRR11313451\\x94\\x8c\\x0bSRR11313452\\x94e\\x8c\\x0ccollected_by\\x94\\x8c#Renmin Hospital of Wuhan University\\x94\\x8c\\rpatient_group\\x94hNuhO}\\x94(\\x8c\\naccessions\\x94]\\x94(\\x8c\\x0bSRR11313448\\x94\\x8c\\x0bSRR11313449\\x94e\\x8c\\x0ccollected_by\\x94\\x8c#Renmin Hospital of Wuhan University\\x94\\x8c\\rpatient_group\\x94hPuhQ}\\x94(\\x8c\\naccessions\\x94]\\x94(\\x8c\\x0bSRR11313322\\x94\\x8c\\x0bSRR11313333\\x94e\\x8c\\x0ccollected_by\\x94\\x8c#Renmin Hospital of Wuhan University\\x94\\x8c\\rpatient_group\\x94hRuhS}\\x94(\\x8c\\naccessions\\x94]\\x94(\\x8c\\x0bSRR11313445\\x94\\x8c\\x0bSRR11313446\\x94e\\x8c\\x0ccollected_by\\x94\\x8c#Renmin Hospital of Wuhan University\\x94\\x8c\\rpatient_group\\x94hTuhU}\\x94(\\x8c\\naccessions\\x94]\\x94(\\x8c\\x0bSRR11313287\\x94\\x8c\\x0bSRR11313289\\x94e\\x8c\\x0ccollected_by\\x94\\x8c#Renmin Hospital of Wuhan University\\x94\\x8c\\rpatient_group\\x94hVuhW}\\x94(\\x8c\\naccessions\\x94]\\x94(\\x8c\\x0bSRR11313285\\x94\\x8c\\x0bSRR11313286\\x94e\\x8c\\x0ccollected_by\\x94\\x8c#Renmin Hospital of Wuhan University\\x94\\x8c\\rpatient_group\\x94hXuhY}\\x94(\\x8c\\naccessions\\x94]\\x94(\\x8c\\x0bSRR11313441\\x94\\x8c\\x0bSRR11313442\\x94e\\x8c\\x0ccollected_by\\x94\\x8c#Renmin Hospital of Wuhan University\\x94\\x8c\\rpatient_group\\x94hZuh[}\\x94(\\x8c\\naccessions\\x94]\\x94(\\x8c\\x0bSRR11313300\\x94\\x8c\\x0bSRR11313311\\x94e\\x8c\\x0ccollected_by\\x94\\x8c#Renmin Hospital of Wuhan University\\x94\\x8c\\rpatient_group\\x94h\\\\uh]}\\x94(\\x8c\\naccessions\\x94]\\x94(\\x8c\\x0bSRR11313443\\x94\\x8c\\x0bSRR11313444\\x94e\\x8c\\x0ccollected_by\\x94\\x8c#Renmin Hospital of Wuhan University\\x94\\x8c\\rpatient_group\\x94h^uh_}\\x94(\\x8c\\naccessions\\x94]\\x94(\\x8c\\x0bSRR11313436\\x94\\x8c\\x0bSRR11313437\\x94e\\x8c\\x0ccollected_by\\x94\\x8c#Renmin Hospital of Wuhan University\\x94\\x8c\\rpatient_group\\x94h`uha}\\x94(\\x8c\\naccessions\\x94]\\x94(\\x8c\\x0bSRR11313438\\x94\\x8c\\x0bSRR11313440\\x94e\\x8c\\x0ccollected_by\\x94\\x8c#Renmin Hospital of Wuhan University\\x94\\x8c\\rpatient_group\\x94hbuhc}\\x94(\\x8c\\naccessions\\x94]\\x94(\\x8c\\x0bSRR11313280\\x94\\x8c\\x0bSRR11313281\\x94e\\x8c\\x0ccollected_by\\x94\\x8c#Renmin Hospital of Wuhan University\\x94\\x8c\\rpatient_group\\x94hduhe}\\x94(\\x8c\\naccessions\\x94]\\x94(\\x8c\\x0bSRR11313276\\x94\\x8c\\x0bSRR11313277\\x94e\\x8c\\x0ccollected_by\\x94\\x8c#Renmin Hospital of Wuhan University\\x94\\x8c\\rpatient_group\\x94hfuhg}\\x94(\\x8c\\naccessions\\x94]\\x94(\\x8c\\x0bSRR11313430\\x94\\x8c\\x0bSRR11313431\\x94e\\x8c\\x0ccollected_by\\x94\\x8c#Renmin Hospital of Wuhan University\\x94\\x8c\\rpatient_group\\x94hhuhi}\\x94(\\x8c\\naccessions\\x94]\\x94(\\x8c\\x0bSRR11313274\\x94\\x8c\\x0bSRR11313275\\x94e\\x8c\\x0ccollected_by\\x94\\x8c#Renmin Hospital of Wuhan University\\x94\\x8c\\rpatient_group\\x94hjuhk}\\x94(\\x8c\\naccessions\\x94]\\x94(\\x8c\\x0bSRR11313427\\x94\\x8c\\x0bSRR11313429\\x94e\\x8c\\x0ccollected_by\\x94\\x8c#Renmin Hospital of Wuhan University\\x94\\x8c\\rpatient_group\\x94hluhm}\\x94(\\x8c\\naccessions\\x94]\\x94(\\x8c\\x0bSRR11313434\\x94\\x8c\\x0bSRR11313435\\x94e\\x8c\\x0ccollected_by\\x94\\x8c#Renmin Hospital of Wuhan University\\x94\\x8c\\rpatient_group\\x94hnuho}\\x94(\\x8c\\naccessions\\x94]\\x94(\\x8c\\x0bSRR11313432\\x94\\x8c\\x0bSRR11313433\\x94e\\x8c\\x0ccollected_by\\x94\\x8c#Renmin Hospital of Wuhan University\\x94\\x8c\\rpatient_group\\x94hpuhq}\\x94(\\x8c\\naccessions\\x94]\\x94(\\x8c\\x0bSRR11313270\\x94\\x8c\\x0bSRR11313470\\x94e\\x8c\\x0ccollected_by\\x94\\x8c#Renmin Hospital of Wuhan University\\x94\\x8c\\rpatient_group\\x94hruhs}\\x94(\\x8c\\naccessions\\x94]\\x94(\\x8c\\x0bSRR11313423\\x94\\x8c\\x0bSRR11313424\\x94e\\x8c\\x0ccollected_by\\x94\\x8c#Renmin Hospital of Wuhan University\\x94\\x8c\\rpatient_group\\x94htuhu}\\x94(\\x8c\\naccessions\\x94]\\x94(\\x8c\\x0bSRR11313425\\x94\\x8c\\x0bSRR11313426\\x94e\\x8c\\x0ccollected_by\\x94\\x8c#Renmin Hospital of Wuhan University\\x94\\x8c\\rpatient_group\\x94hvuhw}\\x94(\\x8c\\naccessions\\x94]\\x94(\\x8c\\x0bSRR11313468\\x94\\x8c\\x0bSRR11313469\\x94e\\x8c\\x0ccollected_by\\x94\\x8c#Renmin Hospital of Wuhan University\\x94\\x8c\\rpatient_group\\x94hxuhy}\\x94(\\x8c\\naccessions\\x94]\\x94(\\x8c\\x0bSRR11313421\\x94\\x8c\\x0bSRR11313422\\x94e\\x8c\\x0ccollected_by\\x94\\x8c#Renmin Hospital of Wuhan University\\x94\\x8c\\rpatient_group\\x94hzuh{}\\x94(\\x8c\\naccessions\\x94]\\x94(\\x8c\\x0bSRR11313419\\x94\\x8c\\x0bSRR11313420\\x94e\\x8c\\x0ccollected_by\\x94\\x8c#Renmin Hospital of Wuhan University\\x94\\x8c\\rpatient_group\\x94h|uh}}\\x94(\\x8c\\naccessions\\x94]\\x94(\\x8c\\x0bSRR11313464\\x94\\x8c\\x0bSRR11313465\\x94e\\x8c\\x0ccollected_by\\x94\\x8c#Renmin Hospital of Wuhan University\\x94\\x8c\\rpatient_group\\x94h~uh\\x7f}\\x94(\\x8c\\naccessions\\x94]\\x94(\\x8c\\x0bSRR11313466\\x94\\x8c\\x0bSRR11313467\\x94e\\x8c\\x0ccollected_by\\x94\\x8c#Renmin Hospital of Wuhan University\\x94\\x8c\\rpatient_group\\x94h\\x80uh\\x81}\\x94(\\x8c\\naccessions\\x94]\\x94(\\x8c\\x0bSRR11313409\\x94\\x8c\\x0bSRR11313410\\x94e\\x8c\\x0ccollected_by\\x94\\x8c#Renmin Hospital of Wuhan University\\x94\\x8c\\rpatient_group\\x94h\\x82uh\\x83}\\x94(\\x8c\\naccessions\\x94]\\x94(\\x8c\\x0bSRR11313406\\x94\\x8c\\x0bSRR11313408\\x94e\\x8c\\x0ccollected_by\\x94\\x8c#Renmin Hospital of Wuhan University\\x94\\x8c\\rpatient_group\\x94h\\x84uh\\x85}\\x94(\\x8c\\naccessions\\x94]\\x94(\\x8c\\x0bSRR11313269\\x94\\x8c\\x0bSRR11313471\\x94e\\x8c\\x0ccollected_by\\x94\\x8c#Renmin Hospital of Wuhan University\\x94\\x8c\\rpatient_group\\x94h\\x86uh\\x87}\\x94(\\x8c\\naccessions\\x94]\\x94\\x8c\\x0bSRR11313509\\x94a\\x8c\\x0ccollected_by\\x94\\x8c#Renmin Hospital of Wuhan University\\x94\\x8c\\rpatient_group\\x94h\\x88uh\\x89}\\x94(\\x8c\\naccessions\\x94]\\x94(\\x8c\\x0bSRR11313507\\x94\\x8c\\x0bSRR11313508\\x94e\\x8c\\x0ccollected_by\\x94\\x8c#Renmin Hospital of Wuhan University\\x94\\x8c\\rpatient_group\\x94h\\x8auh\\x8b}\\x94(\\x8c\\naccessions\\x94]\\x94(\\x8c\\x0bSRR11313505\\x94\\x8c\\x0bSRR11313506\\x94e\\x8c\\x0ccollected_by\\x94\\x8c#Renmin Hospital of Wuhan University\\x94\\x8c\\rpatient_group\\x94h\\x8cuh\\x8d}\\x94(\\x8c\\naccessions\\x94]\\x94(\\x8c\\x0bSRR11313503\\x94\\x8c\\x0bSRR11313504\\x94e\\x8c\\x0ccollected_by\\x94\\x8c#Renmin Hospital of Wuhan University\\x94\\x8c\\rpatient_group\\x94h\\x8euh\\x8f}\\x94(\\x8c\\naccessions\\x94]\\x94(\\x8c\\x0bSRR11313500\\x94\\x8c\\x0bSRR11313502\\x94e\\x8c\\x0ccollected_by\\x94\\x8c#Renmin Hospital of Wuhan University\\x94\\x8c\\rpatient_group\\x94h\\x90uh\\x91}\\x94(\\x8c\\naccessions\\x94]\\x94\\x8c\\x0bSRR11313498\\x94a\\x8c\\x0ccollected_by\\x94\\x8c#Renmin Hospital of Wuhan University\\x94\\x8c\\rpatient_group\\x94h\\x92uh\\x93}\\x94(\\x8c\\naccessions\\x94]\\x94(\\x8c\\x0bSRR11313496\\x94\\x8c\\x0bSRR11313497\\x94e\\x8c\\x0ccollected_by\\x94\\x8c#Renmin Hospital of Wuhan University\\x94\\x8c\\rpatient_group\\x94h\\x94uh\\x95}\\x94(\\x8c\\naccessions\\x94]\\x94(\\x8c\\x0bSRR11313494\\x94\\x8c\\x0bSRR11313495\\x94e\\x8c\\x0ccollected_by\\x94\\x8c#Renmin Hospital of Wuhan University\\x94\\x8c\\rpatient_group\\x94h\\x96uh\\x97}\\x94(\\x8c\\naccessions\\x94]\\x94(\\x8c\\x0bSRR11313492\\x94\\x8c\\x0bSRR11313493\\x94e\\x8c\\x0ccollected_by\\x94\\x8c#Renmin Hospital of Wuhan University\\x94\\x8c\\rpatient_group\\x94h\\x98uh\\x99}\\x94(\\x8c\\naccessions\\x94]\\x94(\\x8c\\x0bSRR11313489\\x94\\x8c\\x0bSRR11313491\\x94e\\x8c\\x0ccollected_by\\x94\\x8c#Renmin Hospital of Wuhan University\\x94\\x8c\\rpatient_group\\x94h\\x9auh\\x9b}\\x94(\\x8c\\naccessions\\x94]\\x94(\\x8c\\x0bSRR11313487\\x94\\x8c\\x0bSRR11313488\\x94e\\x8c\\x0ccollected_by\\x94\\x8c#Renmin Hospital of Wuhan University\\x94\\x8c\\rpatient_group\\x94h\\x9cuh\\x9d}\\x94(\\x8c\\naccessions\\x94]\\x94(\\x8c\\x0bSRR11313485\\x94\\x8c\\x0bSRR11313486\\x94e\\x8c\\x0ccollected_by\\x94\\x8c#Renmin Hospital of Wuhan University\\x94\\x8c\\rpatient_group\\x94h\\x9euh\\x9f}\\x94(\\x8c\\naccessions\\x94]\\x94(\\x8c\\x0bSRR11313483\\x94\\x8c\\x0bSRR11313484\\x94e\\x8c\\x0ccollected_by\\x94\\x8c#Renmin Hospital of Wuhan University\\x94\\x8c\\rpatient_group\\x94h\\xa0uuu\\x8c\\x04rule\\x94\\x8c\\x13integrated_analysis\\x94\\x8c\\x0fbench_iteration\\x94N\\x8c\\tscriptdir\\x94\\x8c-/home/jbloom/SARS-CoV-2_PRJNA612766/notebooks\\x94ub.'); from snakemake.logging import logger; logger.printshellcmds = False; import os; os.chdir('/home/jbloom/SARS-CoV-2_PRJNA612766');\n",
    "######## snakemake preamble end #########\n",
    "\n",
    "snakemake.params.min_frac_coverage = 0.25\n",
    "snakemake.params.comparator_genomes = ['RaTG13', 'RmYN02', 'RShSTT200', 'GD_Pangolin_MP789']"
   ]
  },
  {
   "cell_type": "markdown",
   "id": "1ca94184-9041-4ade-b16c-6f93bf95c982",
   "metadata": {},
   "source": [
    "## Setup for analysis"
   ]
  },
  {
   "cell_type": "code",
   "execution_count": null,
   "id": "8b5da469-7448-46ba-8fdd-5178800ac85c",
   "metadata": {
    "tags": []
   },
   "outputs": [],
   "source": [
    "seqs_csv = snakemake.input.seqs\n",
    "diffs_csv = snakemake.input.diffs\n",
    "gisaid_muts_csv = snakemake.input.gisaid_muts\n",
    "\n",
    "seq_start = snakemake.params.region_of_interest_start\n",
    "seq_end = snakemake.params.region_of_interest_end\n",
    "patient_groups = snakemake.params.patient_groups\n",
    "min_frac_coverage = snakemake.params.min_frac_coverage\n",
    "comparator_genomes = snakemake.params.comparator_genomes"
   ]
  },
  {
   "cell_type": "markdown",
   "id": "f870810a-3b9d-45cc-a950-d9983d5a7aa7",
   "metadata": {},
   "source": [
    "Import Python modules:"
   ]
  },
  {
   "cell_type": "code",
   "execution_count": null,
   "id": "bae1900c-a76e-46cf-a9fd-343cb9adf77a",
   "metadata": {
    "tags": []
   },
   "outputs": [],
   "source": [
    "import altair as alt\n",
    "\n",
    "import numpy\n",
    "\n",
    "import pandas as pd"
   ]
  },
  {
   "cell_type": "markdown",
   "id": "76054450-244b-4e7b-bbb1-29cd2bc12adc",
   "metadata": {},
   "source": [
    "## Read sequences and identify samples with sufficient coverage"
   ]
  },
  {
   "cell_type": "code",
   "execution_count": null,
   "id": "ed7f3b94-155c-4c93-93e0-6627022cdea3",
   "metadata": {
    "tags": []
   },
   "outputs": [],
   "source": [
    "print(f\"Reading sequences from {seqs_csv}, subsetting to sites {seq_start} to {seq_end}\")\n",
    "\n",
    "seqs = (\n",
    "    pd.read_csv(seqs_csv)\n",
    "    .assign(group=lambda x: x['sample'].map(patient_groups),\n",
    "            sequence=lambda x: x['sequence']\n",
    "                               .str.slice(seq_start - 1, seq_end),\n",
    "            sites=lambda x: x['sequence'].map(len),\n",
    "            sites_called=lambda x: x['sites'] - x['sequence'].str.count('N'),\n",
    "            frac_sites_called=lambda x: x['sites_called'] / x['sites'],\n",
    "            max_frac_sites_called=lambda x: x.groupby('sample')\n",
    "                                            ['frac_sites_called']\n",
    "                                            .transform('max'),\n",
    "            adequate_coverage=lambda x: x['max_frac_sites_called'] >= min_frac_coverage,\n",
    "            )\n",
    "    )\n",
    "\n",
    "seqs"
   ]
  },
  {
   "cell_type": "markdown",
   "id": "64c5f116-6b1c-4159-a7e4-c0e87c221473",
   "metadata": {},
   "source": [
    "Make paired bar chart as [here](https://stackoverflow.com/questions/43797379/how-to-create-a-grouped-bar-chart-in-altair):"
   ]
  },
  {
   "cell_type": "code",
   "execution_count": null,
   "id": "9f5bd340-7486-4535-8d94-9af5a49f62e2",
   "metadata": {
    "tags": []
   },
   "outputs": [],
   "source": [
    "samples_sorted_by_coverage = (\n",
    "    seqs\n",
    "    .sort_values('frac_sites_called', ascending=False)\n",
    "    ['sample']\n",
    "    .unique()\n",
    "    .tolist()\n",
    "    )\n",
    "\n",
    "patient_group_selection = alt.selection_single(\n",
    "    name='patient',\n",
    "    bind=alt.binding_select(options=seqs['group'].unique().tolist()),\n",
    "    fields=['group'],\n",
    "    init={'group': seqs['group'].values[0]}\n",
    "    )\n",
    "\n",
    "frac_cov_chart = (\n",
    "    alt.Chart(seqs.drop(columns='sequence'))\n",
    "    .encode(x=alt.X('aligner:N',\n",
    "                    axis=None,\n",
    "                    ),\n",
    "            y=alt.Y('frac_sites_called',\n",
    "                    axis=alt.Axis(grid=False),\n",
    "                    title=[f\"fraction sites called in\", f\"region from {seq_start} to {seq_end}\"],\n",
    "                    ),\n",
    "            color=alt.Color('aligner:N',\n",
    "                            legend=alt.Legend(orient='top'),\n",
    "                            ),\n",
    "            opacity=alt.Opacity('adequate_coverage:N',\n",
    "                                legend=None),\n",
    "            column=alt.Column(\n",
    "                'sample:N',\n",
    "                title='sample',\n",
    "                sort=samples_sorted_by_coverage,\n",
    "                header=alt.Header(labelOrient='bottom',\n",
    "                                  labelPadding=5,\n",
    "                                  titleOrient='bottom',\n",
    "                                  titlePadding=0),\n",
    "                spacing=7,\n",
    "                ),\n",
    "            tooltip=['sample',\n",
    "                     'aligner',\n",
    "                     alt.Tooltip('frac_sites_called',\n",
    "                                 title='fraction called',\n",
    "                                 format='.3f'),\n",
    "                     alt.Tooltip('sites_called',\n",
    "                                 title='sites called'),\n",
    "                     alt.Tooltip('adequate_coverage',\n",
    "                                 title='adequate coverage')\n",
    "                     ],\n",
    "            )\n",
    "    .mark_bar()\n",
    "    .add_selection(patient_group_selection)\n",
    "    .transform_filter(patient_group_selection)\n",
    "    .configure_view(strokeWidth=0)\n",
    "    .properties(width=18,\n",
    "                height=200)\n",
    "    )\n",
    "\n",
    "frac_cov_chart"
   ]
  },
  {
   "cell_type": "markdown",
   "id": "1f228e92-678a-4b8d-a4b1-4598d5c72c66",
   "metadata": {},
   "source": [
    "## Read differences from reference\n",
    "Read the differences from the reference, subset on sites of interest, and then merge with coverage data above:"
   ]
  },
  {
   "cell_type": "code",
   "execution_count": null,
   "id": "8472a81d-369e-4ec7-a180-ef838e9cdcef",
   "metadata": {
    "tags": []
   },
   "outputs": [],
   "source": [
    "print(f\"Reading diffs from ref from {diffs_csv}, subsetting to sites {seq_start} to {seq_end}\")\n",
    "\n",
    "diffs = (\n",
    "    pd.read_csv(diffs_csv)\n",
    "    .query('(site >= @seq_start) or (site <= @seq_end)')\n",
    "    .assign(mutation=lambda x: x['reference'] + x['site'].astype(str) + x['consensus'],\n",
    "            mutation_str=lambda x: x['mutation'] + ' (' +\n",
    "                                   x.apply(lambda r: ', '.join(f\"{nt}={r[nt]}\" for nt in\n",
    "                                                               ['A', 'C', 'G', 'T'] if r[nt]),\n",
    "                                           axis=1) + ')'\n",
    "            )\n",
    "    .melt(id_vars=['sample', 'aligner', 'site', 'reference', 'consensus',\n",
    "                   'mutation', 'mutation_str'],\n",
    "          value_vars=comparator_genomes,\n",
    "          var_name='outgroup',\n",
    "          value_name='comparator_nt')\n",
    "    .assign(outgroup=lambda x: pd.Categorical(x['outgroup'],\n",
    "                                              comparator_genomes,\n",
    "                                              ordered=True),\n",
    "            sample=lambda x: pd.Categorical(x['sample'],\n",
    "                                            seqs['sample'].unique())\n",
    "            )\n",
    "    )\n",
    "\n",
    "diffs_all = (\n",
    "    diffs\n",
    "    [['sample', 'aligner', 'mutation', 'mutation_str']]\n",
    "    .drop_duplicates()\n",
    "    .groupby(['sample', 'aligner'])\n",
    "    .aggregate(mutations_all=pd.NamedAgg('mutation', list),\n",
    "               mutations_str_all=pd.NamedAgg('mutation_str', list)\n",
    "               )\n",
    "    .assign(mutations_all=lambda x: x['mutations_all'].fillna('').apply(list),\n",
    "            mutations_str_all=lambda x: x['mutations_str_all'].fillna('').apply(list),\n",
    "            )\n",
    "    .reset_index()\n",
    "    )\n",
    "\n",
    "diffs_towards = (\n",
    "    diffs\n",
    "    .query('comparator_nt == consensus')\n",
    "    .groupby(['sample', 'aligner', 'outgroup'])\n",
    "    .aggregate(n_mutations_towards=pd.NamedAgg('mutation', 'count'),\n",
    "               mutations_towards=pd.NamedAgg('mutation', list),\n",
    "               mutations_str_towards=pd.NamedAgg('mutation_str', list)\n",
    "               )\n",
    "    .reset_index()\n",
    "    .assign(mutations_towards=lambda x: x['mutations_towards'].fillna('').apply(list),\n",
    "            mutations_str_towards=lambda x: x['mutations_str_towards'].fillna('').apply(list),\n",
    "            )\n",
    "    )\n",
    "\n",
    "diffs = (\n",
    "    diffs_all\n",
    "    .merge(diffs_towards,\n",
    "           on=['sample', 'aligner'],\n",
    "           how='outer',\n",
    "           validate='one_to_many',\n",
    "           )\n",
    "    .assign(mutations_away=lambda x: x.apply(lambda r: [m for m in r['mutations_all']\n",
    "                                                        if m not in r['mutations_towards']],\n",
    "                                             axis=1),\n",
    "            mutations_str_away=lambda x: x.apply(lambda r: [m for m in r['mutations_str_all']\n",
    "                                                            if m not in r['mutations_str_towards']],\n",
    "                                                 axis=1),\n",
    "            n_mutations_away=lambda x: x['mutations_away'].map(len),\n",
    "            )\n",
    "    .drop(columns=['mutations_all', 'mutations_str_all'])\n",
    "    .merge(seqs,\n",
    "           on=['sample', 'aligner'],\n",
    "           validate='many_to_one',\n",
    "           how='outer',\n",
    "           )\n",
    "    )\n",
    "for col in ['mutations_towards', 'mutations_str_towards',\n",
    "            'mutations_away', 'mutations_str_away']:\n",
    "    diffs[col] = diffs[col].map('; '.join)\n",
    "    \n",
    "assert diffs.notnull().all().all()\n",
    "\n",
    "diffs"
   ]
  },
  {
   "cell_type": "markdown",
   "id": "e1b4aa2f-dc64-4007-ad6b-bc065c3c137d",
   "metadata": {},
   "source": [
    "Plot the differences from the reference towards and away from outgroup comparators, only for samples with adequate coverage:"
   ]
  },
  {
   "cell_type": "code",
   "execution_count": null,
   "id": "361ff96d-5196-486d-be2b-e87acf636688",
   "metadata": {
    "tags": []
   },
   "outputs": [],
   "source": [
    "comparator_selection = alt.selection_single(\n",
    "    name='comparator',\n",
    "    bind=alt.binding_select(options=comparator_genomes),\n",
    "    fields=['outgroup'],\n",
    "    init={'outgroup': comparator_genomes[0]}\n",
    "    )\n",
    "\n",
    "aligner_selection = alt.selection_single(\n",
    "    name='read',\n",
    "    bind=alt.binding_select(options=diffs['aligner'].unique()),\n",
    "    fields=['aligner'],\n",
    "    init={'aligner': diffs['aligner'].unique()[-1]}\n",
    "    )\n",
    "\n",
    "jitter_slider = alt.selection_single(\n",
    "        name='jitter',\n",
    "        fields=['amount'],\n",
    "        init={'amount': 0.2},\n",
    "        bind=alt.binding_range(min=0, max=1)\n",
    "        )\n",
    "\n",
    "numpy.random.seed(1)\n",
    "\n",
    "def rand_jitter(n):\n",
    "    \"\"\"Calculate random jitter as here:\n",
    "    https://www.geeksforgeeks.org/how-to-make-stripplot-with-jitter-in-altair-python/\n",
    "    \"\"\"\n",
    "    return (numpy.sqrt(-2 * numpy.log(numpy.random.rand(n))) *\n",
    "            numpy.cos(2 * numpy.pi * numpy.random.rand(n)))\n",
    "\n",
    "diffs_chart = (\n",
    "    alt.Chart(diffs\n",
    "              .assign(jitter_x=rand_jitter(len(diffs)),\n",
    "                      jitter_y=rand_jitter(len(diffs))\n",
    "                      )\n",
    "              .drop(columns='sequence')\n",
    "              .query('adequate_coverage')\n",
    "              )\n",
    "    .encode(x=alt.X('x:Q',\n",
    "                    axis=alt.Axis(tickMinStep=1,\n",
    "                                  grid=False),\n",
    "                    title='mutations away from outgroup',\n",
    "                    ),\n",
    "            y=alt.Y('y:Q',\n",
    "                    axis=alt.Axis(tickMinStep=1,\n",
    "                                  grid=False),\n",
    "                    title='mutations towards outgroup',\n",
    "                    ),\n",
    "            color='group:N',\n",
    "            tooltip=['sample',\n",
    "                     alt.Tooltip('frac_sites_called',\n",
    "                                 title='fraction sites called',\n",
    "                                 format='.3f'),\n",
    "                     alt.Tooltip('n_mutations_towards',\n",
    "                                 title='n mutations to outgroup'),\n",
    "                     alt.Tooltip('n_mutations_away',\n",
    "                                 title='n mutations from outgroup'),\n",
    "                     alt.Tooltip('mutations_str_towards',\n",
    "                                 title='mutations to outgroup'),\n",
    "                     alt.Tooltip('mutations_str_away',\n",
    "                                 title='mutations from outgroup'),\n",
    "                     ]\n",
    "            )\n",
    "    .mark_point(filled=True,\n",
    "                size=75,\n",
    "                opacity=0.5)\n",
    "    .add_selection(jitter_slider,\n",
    "                   aligner_selection,\n",
    "                   comparator_selection,\n",
    "                   )\n",
    "    .transform_filter(comparator_selection)\n",
    "    .transform_filter(aligner_selection)\n",
    "    .transform_calculate(\n",
    "        x='datum.n_mutations_away + datum.jitter_x * jitter.amount / 10',\n",
    "        y='datum.n_mutations_towards + datum.jitter_y * jitter.amount / 10'\n",
    "        )\n",
    "    )\n",
    "\n",
    "diffs_chart"
   ]
  },
  {
   "cell_type": "code",
   "execution_count": null,
   "id": "ed416c32-5f79-433b-9bd7-cdc76b1f58e2",
   "metadata": {},
   "outputs": [],
   "source": []
  }
 ],
 "metadata": {
  "kernelspec": {
   "display_name": "Python 3",
   "language": "python",
   "name": "python3"
  },
  "language_info": {
   "codemirror_mode": {
    "name": "ipython",
    "version": 3
   },
   "file_extension": ".py",
   "mimetype": "text/x-python",
   "name": "python",
   "nbconvert_exporter": "python",
   "pygments_lexer": "ipython3",
   "version": "3.8.10"
  }
 },
 "nbformat": 4,
 "nbformat_minor": 5
}
